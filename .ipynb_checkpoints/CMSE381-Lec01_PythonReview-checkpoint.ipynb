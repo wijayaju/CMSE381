{
 "cells": [
  {
   "cell_type": "markdown",
   "metadata": {},
   "source": [
    "# Jupyter - Lecture 1 (Section 002)\n",
    "## Python Review\n",
    "\n",
    "In today's assignment, we are going to go over some of the python commands you've (hopefully!) seen before.  \n",
    "In order to successfully complete this assignment you need to participate both individually and in groups during class. This lab loosely follows the lab content from the [the ISLP textbook](https://www.statlearning.com), Ch 2.3.\n",
    "\n",
    "\n",
    "**<font color=red>IMPORTANT:</font>** If you are  looking at this notebook prior to class with the intention of doing it early PLEASE DON'T! The intention of these notebooks is for group work in class, so it will be much more interesting if you don't have it done already and can talk with the rest of the group members. \n",
    "\n"
   ]
  },
  {
   "cell_type": "markdown",
   "metadata": {},
   "source": [
    "# 1. The Dataset\n",
    "\n",
    "In this module, we will be using the `Auto.csv` data set from [the textbook website](https://www.statlearning.com/resources-python). You can download the data directly by finding the link on the [the data set page](../../DataSets/DataSets.md) on the course website. "
   ]
  },
  {
   "cell_type": "markdown",
   "metadata": {},
   "source": [
    "## Info about the data set \n",
    "\n",
    "- [Info on R version](https://rdrr.io/cran/ISLR/man/Auto.html)\n",
    "- [Info on Python version](https://islp.readthedocs.io/en/latest/datasets/Auto.html)\n",
    "\n",
    "### Auto: Auto Data Set\n",
    "\n",
    "\n",
    "**Description**\n",
    "\n",
    "Gas mileage, horsepower, and other information for 392 vehicles.\n",
    "Usage\n",
    "\n",
    "\n",
    "**Format**\n",
    "\n",
    "A data frame with 392 observations on the following 9 variables.\n",
    "\n",
    "- `mpg`: miles per gallon\n",
    "- `cylinders`: Number of cylinders between 4 and 8\n",
    "- `displacement`: Engine displacement (cu. inches)\n",
    "- `horsepower`: Engine horsepower\n",
    "- `weight`: Vehicle weight (lbs.)\n",
    "- `acceleration`: Time to accelerate from 0 to 60 mph (sec.)\n",
    "- `year`: Model year (modulo 100)\n",
    "- `origin`: Origin of car (1. American, 2. European, 3. Japanese)\n",
    "- `name`: Vehicle name\n",
    "\n",
    "The orginal data contained 408 observations but 16 observations with missing values were removed.\n",
    "\n",
    "**Source**\n",
    "\n",
    "This dataset was taken from the StatLib library which is maintained at Carnegie Mellon University. The dataset was used in the 1983 American Statistical Association Exposition. "
   ]
  },
  {
   "cell_type": "markdown",
   "metadata": {},
   "source": [
    "----\n",
    "<a name=\"Basic\"></a>\n",
    "# 2. Load the data set \n",
    "\n",
    "\n"
   ]
  },
  {
   "cell_type": "code",
   "execution_count": 1,
   "metadata": {},
   "outputs": [
    {
     "name": "stderr",
     "output_type": "stream",
     "text": [
      "2025-01-13 13:18:38.505 system_profiler[1789:39173] CoreText note: Client requested name \".AlBayanPUA\", it will get Times-Roman rather than the intended font. All system UI font access should be through proper APIs such as CTFontCreateUIFontForLanguage() or +[NSFont systemFontOfSize:].\n",
      "2025-01-13 13:18:38.505 system_profiler[1789:39173] CoreText note: Set a breakpoint on CTFontLogSystemFontNameRequest to debug.\n",
      "2025-01-13 13:18:38.511 system_profiler[1789:39173] CoreText note: Client requested name \".AlBayanPUA-Bold\", it will get Times-Roman rather than the intended font. All system UI font access should be through proper APIs such as CTFontCreateUIFontForLanguage() or +[NSFont systemFontOfSize:].\n",
      "2025-01-13 13:18:38.516 system_profiler[1789:39173] CoreText note: Client requested name \".AlNilePUA\", it will get Times-Roman rather than the intended font. All system UI font access should be through proper APIs such as CTFontCreateUIFontForLanguage() or +[NSFont systemFontOfSize:].\n",
      "2025-01-13 13:18:38.519 system_profiler[1789:39173] CoreText note: Client requested name \".AlNilePUA-Bold\", it will get Times-Roman rather than the intended font. All system UI font access should be through proper APIs such as CTFontCreateUIFontForLanguage() or +[NSFont systemFontOfSize:].\n",
      "2025-01-13 13:18:38.523 system_profiler[1789:39173] CoreText note: Client requested name \".AlTarikhPUA\", it will get Times-Roman rather than the intended font. All system UI font access should be through proper APIs such as CTFontCreateUIFontForLanguage() or +[NSFont systemFontOfSize:].\n",
      "2025-01-13 13:18:38.526 system_profiler[1789:39173] CoreText note: Client requested name \".AppleColorEmojiUI\", it will get Times-Roman rather than the intended font. All system UI font access should be through proper APIs such as CTFontCreateUIFontForLanguage() or +[NSFont systemFontOfSize:].\n",
      "2025-01-13 13:18:38.530 system_profiler[1789:39173] CoreText note: Client requested name \".AppleSDGothicNeoI-Regular\", it will get Times-Roman rather than the intended font. All system UI font access should be through proper APIs such as CTFontCreateUIFontForLanguage() or +[NSFont systemFontOfSize:].\n",
      "2025-01-13 13:18:38.534 system_profiler[1789:39173] CoreText note: Client requested name \".AppleSDGothicNeoI-Medium\", it will get Times-Roman rather than the intended font. All system UI font access should be through proper APIs such as CTFontCreateUIFontForLanguage() or +[NSFont systemFontOfSize:].\n",
      "2025-01-13 13:18:38.538 system_profiler[1789:39173] CoreText note: Client requested name \".AppleSDGothicNeoI-Light\", it will get Times-Roman rather than the intended font. All system UI font access should be through proper APIs such as CTFontCreateUIFontForLanguage() or +[NSFont systemFontOfSize:].\n",
      "2025-01-13 13:18:38.542 system_profiler[1789:39173] CoreText note: Client requested name \".AppleSDGothicNeoI-UltraLight\", it will get Times-Roman rather than the intended font. All system UI font access should be through proper APIs such as CTFontCreateUIFontForLanguage() or +[NSFont systemFontOfSize:].\n",
      "2025-01-13 13:18:38.546 system_profiler[1789:39173] CoreText note: Client requested name \".AppleSDGothicNeoI-Thin\", it will get Times-Roman rather than the intended font. All system UI font access should be through proper APIs such as CTFontCreateUIFontForLanguage() or +[NSFont systemFontOfSize:].\n",
      "2025-01-13 13:18:38.550 system_profiler[1789:39173] CoreText note: Client requested name \".AppleSDGothicNeoI-SemiBold\", it will get Times-Roman rather than the intended font. All system UI font access should be through proper APIs such as CTFontCreateUIFontForLanguage() or +[NSFont systemFontOfSize:].\n",
      "2025-01-13 13:18:38.554 system_profiler[1789:39173] CoreText note: Client requested name \".AppleSDGothicNeoI-Bold\", it will get Times-Roman rather than the intended font. All system UI font access should be through proper APIs such as CTFontCreateUIFontForLanguage() or +[NSFont systemFontOfSize:].\n",
      "2025-01-13 13:18:38.557 system_profiler[1789:39173] CoreText note: Client requested name \".AppleSDGothicNeoI-ExtraBold\", it will get Times-Roman rather than the intended font. All system UI font access should be through proper APIs such as CTFontCreateUIFontForLanguage() or +[NSFont systemFontOfSize:].\n",
      "2025-01-13 13:18:38.561 system_profiler[1789:39173] CoreText note: Client requested name \".AppleSDGothicNeoI-Heavy\", it will get Times-Roman rather than the intended font. All system UI font access should be through proper APIs such as CTFontCreateUIFontForLanguage() or +[NSFont systemFontOfSize:].\n",
      "2025-01-13 13:18:38.592 system_profiler[1789:39173] CoreText note: Client requested name \".ArabicUIDisplay-Regular\", it will get Times-Roman rather than the intended font. All system UI font access should be through proper APIs such as CTFontCreateUIFontForLanguage() or +[NSFont systemFontOfSize:].\n",
      "2025-01-13 13:18:38.597 system_profiler[1789:39173] CoreText note: Client requested name \".ArabicUIDisplay-Medium\", it will get Times-Roman rather than the intended font. All system UI font access should be through proper APIs such as CTFontCreateUIFontForLanguage() or +[NSFont systemFontOfSize:].\n",
      "2025-01-13 13:18:38.601 system_profiler[1789:39173] CoreText note: Client requested name \".ArabicUIDisplay-Light\", it will get Times-Roman rather than the intended font. All system UI font access should be through proper APIs such as CTFontCreateUIFontForLanguage() or +[NSFont systemFontOfSize:].\n",
      "2025-01-13 13:18:38.605 system_profiler[1789:39173] CoreText note: Client requested name \".ArabicUIDisplay-Thin\", it will get Times-Roman rather than the intended font. All system UI font access should be through proper APIs such as CTFontCreateUIFontForLanguage() or +[NSFont systemFontOfSize:].\n",
      "2025-01-13 13:18:38.608 system_profiler[1789:39173] CoreText note: Client requested name \".ArabicUIDisplay-Ultralight\", it will get Times-Roman rather than the intended font. All system UI font access should be through proper APIs such as CTFontCreateUIFontForLanguage() or +[NSFont systemFontOfSize:].\n",
      "2025-01-13 13:18:38.612 system_profiler[1789:39173] CoreText note: Client requested name \".ArabicUIDisplay-Semibold\", it will get Times-Roman rather than the intended font. All system UI font access should be through proper APIs such as CTFontCreateUIFontForLanguage() or +[NSFont systemFontOfSize:].\n",
      "2025-01-13 13:18:38.616 system_profiler[1789:39173] CoreText note: Client requested name \".ArabicUIDisplay-Bold\", it will get Times-Roman rather than the intended font. All system UI font access should be through proper APIs such as CTFontCreateUIFontForLanguage() or +[NSFont systemFontOfSize:].\n",
      "2025-01-13 13:18:38.620 system_profiler[1789:39173] CoreText note: Client requested name \".ArabicUIDisplay-Heavy\", it will get Times-Roman rather than the intended font. All system UI font access should be through proper APIs such as CTFontCreateUIFontForLanguage() or +[NSFont systemFontOfSize:].\n",
      "2025-01-13 13:18:38.623 system_profiler[1789:39173] CoreText note: Client requested name \".ArabicUIDisplay-Black\", it will get Times-Roman rather than the intended font. All system UI font access should be through proper APIs such as CTFontCreateUIFontForLanguage() or +[NSFont systemFontOfSize:].\n",
      "2025-01-13 13:18:38.629 system_profiler[1789:39173] CoreText note: Client requested name \".ArabicUIText-Regular\", it will get Times-Roman rather than the intended font. All system UI font access should be through proper APIs such as CTFontCreateUIFontForLanguage() or +[NSFont systemFontOfSize:].\n",
      "2025-01-13 13:18:38.633 system_profiler[1789:39173] CoreText note: Client requested name \".ArabicUIText-Medium\", it will get Times-Roman rather than the intended font. All system UI font access should be through proper APIs such as CTFontCreateUIFontForLanguage() or +[NSFont systemFontOfSize:].\n",
      "2025-01-13 13:18:38.637 system_profiler[1789:39173] CoreText note: Client requested name \".ArabicUIText-Light\", it will get Times-Roman rather than the intended font. All system UI font access should be through proper APIs such as CTFontCreateUIFontForLanguage() or +[NSFont systemFontOfSize:].\n",
      "2025-01-13 13:18:38.641 system_profiler[1789:39173] CoreText note: Client requested name \".ArabicUIText-Semibold\", it will get Times-Roman rather than the intended font. All system UI font access should be through proper APIs such as CTFontCreateUIFontForLanguage() or +[NSFont systemFontOfSize:].\n",
      "2025-01-13 13:18:38.645 system_profiler[1789:39173] CoreText note: Client requested name \".ArabicUIText-Bold\", it will get Times-Roman rather than the intended font. All system UI font access should be through proper APIs such as CTFontCreateUIFontForLanguage() or +[NSFont systemFontOfSize:].\n",
      "2025-01-13 13:18:38.649 system_profiler[1789:39173] CoreText note: Client requested name \".ArabicUIText-Heavy\", it will get Times-Roman rather than the intended font. All system UI font access should be through proper APIs such as CTFontCreateUIFontForLanguage() or +[NSFont systemFontOfSize:].\n",
      "2025-01-13 13:18:38.653 system_profiler[1789:39173] CoreText note: Client requested name \".ArialHebrewDeskInterface\", it will get Times-Roman rather than the intended font. All system UI font access should be through proper APIs such as CTFontCreateUIFontForLanguage() or +[NSFont systemFontOfSize:].\n",
      "2025-01-13 13:18:38.657 system_profiler[1789:39173] CoreText note: Client requested name \".ArialHebrewDeskInterface-Light\", it will get Times-Roman rather than the intended font. All system UI font access should be through proper APIs such as CTFontCreateUIFontForLanguage() or +[NSFont systemFontOfSize:].\n",
      "2025-01-13 13:18:38.661 system_profiler[1789:39173] CoreText note: Client requested name \".ArialHebrewDeskInterface-Bold\", it will get Times-Roman rather than the intended font. All system UI font access should be through proper APIs such as CTFontCreateUIFontForLanguage() or +[NSFont systemFontOfSize:].\n",
      "2025-01-13 13:18:38.665 system_profiler[1789:39173] CoreText note: Client requested name \".BaghdadPUA\", it will get Times-Roman rather than the intended font. All system UI font access should be through proper APIs such as CTFontCreateUIFontForLanguage() or +[NSFont systemFontOfSize:].\n",
      "2025-01-13 13:18:38.671 system_profiler[1789:39173] CoreText note: Client requested name \".BeirutPUA\", it will get Times-Roman rather than the intended font. All system UI font access should be through proper APIs such as CTFontCreateUIFontForLanguage() or +[NSFont systemFontOfSize:].\n",
      "2025-01-13 13:18:38.675 system_profiler[1789:39173] CoreText note: Client requested name \".DamascusPUA\", it will get Times-Roman rather than the intended font. All system UI font access should be through proper APIs such as CTFontCreateUIFontForLanguage() or +[NSFont systemFontOfSize:].\n",
      "2025-01-13 13:18:38.678 system_profiler[1789:39173] CoreText note: Client requested name \".DamascusPUAMedium\", it will get Times-Roman rather than the intended font. All system UI font access should be through proper APIs such as CTFontCreateUIFontForLanguage() or +[NSFont systemFontOfSize:].\n",
      "2025-01-13 13:18:38.681 system_profiler[1789:39173] CoreText note: Client requested name \".DamascusPUALight\", it will get Times-Roman rather than the intended font. All system UI font access should be through proper APIs such as CTFontCreateUIFontForLanguage() or +[NSFont systemFontOfSize:].\n",
      "2025-01-13 13:18:38.684 system_profiler[1789:39173] CoreText note: Client requested name \".DamascusPUASemiBold\", it will get Times-Roman rather than the intended font. All system UI font access should be through proper APIs such as CTFontCreateUIFontForLanguage() or +[NSFont systemFontOfSize:].\n",
      "2025-01-13 13:18:38.688 system_profiler[1789:39173] CoreText note: Client requested name \".DamascusPUABold\", it will get Times-Roman rather than the intended font. All system UI font access should be through proper APIs such as CTFontCreateUIFontForLanguage() or +[NSFont systemFontOfSize:].\n",
      "2025-01-13 13:18:38.691 system_profiler[1789:39173] CoreText note: Client requested name \".DecoTypeNaskhPUA\", it will get Times-Roman rather than the intended font. All system UI font access should be through proper APIs such as CTFontCreateUIFontForLanguage() or +[NSFont systemFontOfSize:].\n",
      "2025-01-13 13:18:38.696 system_profiler[1789:39173] CoreText note: Client requested name \".DiwanKufiPUA\", it will get Times-Roman rather than the intended font. All system UI font access should be through proper APIs such as CTFontCreateUIFontForLanguage() or +[NSFont systemFontOfSize:].\n",
      "2025-01-13 13:18:38.699 system_profiler[1789:39173] CoreText note: Client requested name \".FarahPUA\", it will get Times-Roman rather than the intended font. All system UI font access should be through proper APIs such as CTFontCreateUIFontForLanguage() or +[NSFont systemFontOfSize:].\n",
      "2025-01-13 13:18:38.703 system_profiler[1789:39173] CoreText note: Client requested name \".GeezaProInterface\", it will get Times-Roman rather than the intended font. All system UI font access should be through proper APIs such as CTFontCreateUIFontForLanguage() or +[NSFont systemFontOfSize:].\n",
      "2025-01-13 13:18:38.708 system_profiler[1789:39173] CoreText note: Client requested name \".GeezaProInterface-Light\", it will get Times-Roman rather than the intended font. All system UI font access should be through proper APIs such as CTFontCreateUIFontForLanguage() or +[NSFont systemFontOfSize:].\n",
      "2025-01-13 13:18:38.714 system_profiler[1789:39173] CoreText note: Client requested name \".GeezaProInterface-Bold\", it will get Times-Roman rather than the intended font. All system UI font access should be through proper APIs such as CTFontCreateUIFontForLanguage() or +[NSFont systemFontOfSize:].\n",
      "2025-01-13 13:18:38.724 system_profiler[1789:39173] CoreText note: Client requested name \".GeezaProPUA\", it will get Times-Roman rather than the intended font. All system UI font access should be through proper APIs such as CTFontCreateUIFontForLanguage() or +[NSFont systemFontOfSize:].\n",
      "2025-01-13 13:18:38.732 system_profiler[1789:39173] CoreText note: Client requested name \".GeezaProPUA-Bold\", it will get Times-Roman rather than the intended font. All system UI font access should be through proper APIs such as CTFontCreateUIFontForLanguage() or +[NSFont systemFontOfSize:].\n",
      "2025-01-13 13:18:38.755 system_profiler[1789:39173] CoreText note: Client requested name \".HelveticaNeueDeskInterface-Regular\", it will get Times-Roman rather than the intended font. All system UI font access should be through proper APIs such as CTFontCreateUIFontForLanguage() or +[NSFont systemFontOfSize:].\n",
      "2025-01-13 13:18:38.764 system_profiler[1789:39173] CoreText note: Client requested name \".HelveticaNeueDeskInterface-MediumP4\", it will get Times-Roman rather than the intended font. All system UI font access should be through proper APIs such as CTFontCreateUIFontForLanguage() or +[NSFont systemFontOfSize:].\n",
      "2025-01-13 13:18:38.771 system_profiler[1789:39173] CoreText note: Client requested name \".HelveticaNeueDeskInterface-Light\", it will get Times-Roman rather than the intended font. All system UI font access should be through proper APIs such as CTFontCreateUIFontForLanguage() or +[NSFont systemFontOfSize:].\n",
      "2025-01-13 13:18:38.777 system_profiler[1789:39173] CoreText note: Client requested name \".HelveticaNeueDeskInterface-Thin\", it will get Times-Roman rather than the intended font. All system UI font access should be through proper APIs such as CTFontCreateUIFontForLanguage() or +[NSFont systemFontOfSize:].\n",
      "2025-01-13 13:18:38.784 system_profiler[1789:39173] CoreText note: Client requested name \".HelveticaNeueDeskInterface-UltraLightP2\", it will get Times-Roman rather than the intended font. All system UI font access should be through proper APIs such as CTFontCreateUIFontForLanguage() or +[NSFont systemFontOfSize:].\n",
      "2025-01-13 13:18:38.794 system_profiler[1789:39173] CoreText note: Client requested name \".HelveticaNeueDeskInterface-Italic\", it will get Times-Roman rather than the intended font. All system UI font access should be through proper APIs such as CTFontCreateUIFontForLanguage() or +[NSFont systemFontOfSize:].\n",
      "2025-01-13 13:18:38.802 system_profiler[1789:39173] CoreText note: Client requested name \".HelveticaNeueDeskInterface-MediumItalicP4\", it will get Times-Roman rather than the intended font. All system UI font access should be through proper APIs such as CTFontCreateUIFontForLanguage() or +[NSFont systemFontOfSize:].\n",
      "2025-01-13 13:18:38.813 system_profiler[1789:39173] CoreText note: Client requested name \".HelveticaNeueDeskInterface-Bold\", it will get Times-Roman rather than the intended font. All system UI font access should be through proper APIs such as CTFontCreateUIFontForLanguage() or +[NSFont systemFontOfSize:].\n",
      "2025-01-13 13:18:38.819 system_profiler[1789:39173] CoreText note: Client requested name \".HelveticaNeueDeskInterface-Heavy\", it will get Times-Roman rather than the intended font. All system UI font access should be through proper APIs such as CTFontCreateUIFontForLanguage() or +[NSFont systemFontOfSize:].\n",
      "2025-01-13 13:18:38.826 system_profiler[1789:39173] CoreText note: Client requested name \".HelveticaNeueDeskInterface-BoldItalic\", it will get Times-Roman rather than the intended font. All system UI font access should be through proper APIs such as CTFontCreateUIFontForLanguage() or +[NSFont systemFontOfSize:].\n",
      "2025-01-13 13:18:38.831 system_profiler[1789:39173] CoreText note: Client requested name \".HiraKakuInterface-W3\", it will get Times-Roman rather than the intended font. All system UI font access should be through proper APIs such as CTFontCreateUIFontForLanguage() or +[NSFont systemFontOfSize:].\n",
      "2025-01-13 13:18:38.836 system_profiler[1789:39173] CoreText note: Client requested name \".HiraKakuInterface-W4\", it will get Times-Roman rather than the intended font. All system UI font access should be through proper APIs such as CTFontCreateUIFontForLanguage() or +[NSFont systemFontOfSize:].\n",
      "2025-01-13 13:18:38.841 system_profiler[1789:39173] CoreText note: Client requested name \".HiraKakuInterface-W2\", it will get Times-Roman rather than the intended font. All system UI font access should be through proper APIs such as CTFontCreateUIFontForLanguage() or +[NSFont systemFontOfSize:].\n",
      "2025-01-13 13:18:38.846 system_profiler[1789:39173] CoreText note: Client requested name \".HiraKakuInterface-W1\", it will get Times-Roman rather than the intended font. All system UI font access should be through proper APIs such as CTFontCreateUIFontForLanguage() or +[NSFont systemFontOfSize:].\n",
      "2025-01-13 13:18:38.851 system_profiler[1789:39173] CoreText note: Client requested name \".HiraKakuInterface-W0\", it will get Times-Roman rather than the intended font. All system UI font access should be through proper APIs such as CTFontCreateUIFontForLanguage() or +[NSFont systemFontOfSize:].\n",
      "2025-01-13 13:18:38.856 system_profiler[1789:39173] CoreText note: Client requested name \".HiraKakuInterface-W5\", it will get Times-Roman rather than the intended font. All system UI font access should be through proper APIs such as CTFontCreateUIFontForLanguage() or +[NSFont systemFontOfSize:].\n",
      "2025-01-13 13:18:38.861 system_profiler[1789:39173] CoreText note: Client requested name \".HiraKakuInterface-W6\", it will get Times-Roman rather than the intended font. All system UI font access should be through proper APIs such as CTFontCreateUIFontForLanguage() or +[NSFont systemFontOfSize:].\n",
      "2025-01-13 13:18:38.866 system_profiler[1789:39173] CoreText note: Client requested name \".HiraKakuInterface-W7\", it will get Times-Roman rather than the intended font. All system UI font access should be through proper APIs such as CTFontCreateUIFontForLanguage() or +[NSFont systemFontOfSize:].\n",
      "2025-01-13 13:18:38.871 system_profiler[1789:39173] CoreText note: Client requested name \".HiraKakuInterface-W8\", it will get Times-Roman rather than the intended font. All system UI font access should be through proper APIs such as CTFontCreateUIFontForLanguage() or +[NSFont systemFontOfSize:].\n",
      "2025-01-13 13:18:38.876 system_profiler[1789:39173] CoreText note: Client requested name \".HiraKakuInterface-W9\", it will get Times-Roman rather than the intended font. All system UI font access should be through proper APIs such as CTFontCreateUIFontForLanguage() or +[NSFont systemFontOfSize:].\n",
      "2025-01-13 13:18:38.881 system_profiler[1789:39173] CoreText note: Client requested name \".HiraginoSansGBInterface-W3\", it will get Times-Roman rather than the intended font. All system UI font access should be through proper APIs such as CTFontCreateUIFontForLanguage() or +[NSFont systemFontOfSize:].\n",
      "2025-01-13 13:18:38.885 system_profiler[1789:39173] CoreText note: Client requested name \".HiraginoSansGBInterface-W6\", it will get Times-Roman rather than the intended font. All system UI font access should be through proper APIs such as CTFontCreateUIFontForLanguage() or +[NSFont systemFontOfSize:].\n",
      "2025-01-13 13:18:38.889 system_profiler[1789:39173] CoreText note: Client requested name \".Keyboard\", it will get Times-Roman rather than the intended font. All system UI font access should be through proper APIs such as CTFontCreateUIFontForLanguage() or +[NSFont systemFontOfSize:].\n",
      "2025-01-13 13:18:38.893 system_profiler[1789:39173] CoreText note: Client requested name \".KufiStandardGKPUA\", it will get Times-Roman rather than the intended font. All system UI font access should be through proper APIs such as CTFontCreateUIFontForLanguage() or +[NSFont systemFontOfSize:].\n",
      "2025-01-13 13:18:38.901 system_profiler[1789:39173] CoreText note: Client requested name \".LucidaGrandeUI\", it will get Times-Roman rather than the intended font. All system UI font access should be through proper APIs such as CTFontCreateUIFontForLanguage() or +[NSFont systemFontOfSize:].\n",
      "2025-01-13 13:18:38.907 system_profiler[1789:39173] CoreText note: Client requested name \".LucidaGrandeUI-Bold\", it will get Times-Roman rather than the intended font. All system UI font access should be through proper APIs such as CTFontCreateUIFontForLanguage() or +[NSFont systemFontOfSize:].\n",
      "2025-01-13 13:18:38.912 system_profiler[1789:39173] CoreText note: Client requested name \".MunaPUA\", it will get Times-Roman rather than the intended font. All system UI font access should be through proper APIs such as CTFontCreateUIFontForLanguage() or +[NSFont systemFontOfSize:].\n",
      "2025-01-13 13:18:38.919 system_profiler[1789:39173] CoreText note: Client requested name \".MunaPUABold\", it will get Times-Roman rather than the intended font. All system UI font access should be through proper APIs such as CTFontCreateUIFontForLanguage() or +[NSFont systemFontOfSize:].\n",
      "2025-01-13 13:18:38.924 system_profiler[1789:39173] CoreText note: Client requested name \".MunaPUABlack\", it will get Times-Roman rather than the intended font. All system UI font access should be through proper APIs such as CTFontCreateUIFontForLanguage() or +[NSFont systemFontOfSize:].\n",
      "2025-01-13 13:18:38.928 system_profiler[1789:39173] CoreText note: Client requested name \".NadeemPUA\", it will get Times-Roman rather than the intended font. All system UI font access should be through proper APIs such as CTFontCreateUIFontForLanguage() or +[NSFont systemFontOfSize:].\n",
      "2025-01-13 13:18:38.937 system_profiler[1789:39173] CoreText note: Client requested name \".NewYork-Regular\", it will get Times-Roman rather than the intended font. All system UI font access should be through proper APIs such as CTFontCreateUIFontForLanguage() or +[NSFont systemFontOfSize:].\n",
      "2025-01-13 13:18:38.943 system_profiler[1789:39173] CoreText note: Client requested name \".NewYork-Medium\", it will get Times-Roman rather than the intended font. All system UI font access should be through proper APIs such as CTFontCreateUIFontForLanguage() or +[NSFont systemFontOfSize:].\n",
      "2025-01-13 13:18:38.950 system_profiler[1789:39173] CoreText note: Client requested name \".NewYork-RegularItalic\", it will get Times-Roman rather than the intended font. All system UI font access should be through proper APIs such as CTFontCreateUIFontForLanguage() or +[NSFont systemFontOfSize:].\n",
      "2025-01-13 13:18:38.955 system_profiler[1789:39173] CoreText note: Client requested name \".NewYork-MediumItalic\", it will get Times-Roman rather than the intended font. All system UI font access should be through proper APIs such as CTFontCreateUIFontForLanguage() or +[NSFont systemFontOfSize:].\n",
      "2025-01-13 13:18:38.960 system_profiler[1789:39173] CoreText note: Client requested name \".NewYork-Semibold\", it will get Times-Roman rather than the intended font. All system UI font access should be through proper APIs such as CTFontCreateUIFontForLanguage() or +[NSFont systemFontOfSize:].\n",
      "2025-01-13 13:18:38.965 system_profiler[1789:39173] CoreText note: Client requested name \".NewYork-Bold\", it will get Times-Roman rather than the intended font. All system UI font access should be through proper APIs such as CTFontCreateUIFontForLanguage() or +[NSFont systemFontOfSize:].\n",
      "2025-01-13 13:18:38.972 system_profiler[1789:39173] CoreText note: Client requested name \".NewYork-Heavy\", it will get Times-Roman rather than the intended font. All system UI font access should be through proper APIs such as CTFontCreateUIFontForLanguage() or +[NSFont systemFontOfSize:].\n",
      "2025-01-13 13:18:38.979 system_profiler[1789:39173] CoreText note: Client requested name \".NewYork-Black\", it will get Times-Roman rather than the intended font. All system UI font access should be through proper APIs such as CTFontCreateUIFontForLanguage() or +[NSFont systemFontOfSize:].\n",
      "2025-01-13 13:18:38.984 system_profiler[1789:39173] CoreText note: Client requested name \".NewYork-SemiboldItalic\", it will get Times-Roman rather than the intended font. All system UI font access should be through proper APIs such as CTFontCreateUIFontForLanguage() or +[NSFont systemFontOfSize:].\n",
      "2025-01-13 13:18:38.989 system_profiler[1789:39173] CoreText note: Client requested name \".NewYork-BoldItalic\", it will get Times-Roman rather than the intended font. All system UI font access should be through proper APIs such as CTFontCreateUIFontForLanguage() or +[NSFont systemFontOfSize:].\n",
      "2025-01-13 13:18:38.994 system_profiler[1789:39173] CoreText note: Client requested name \".NewYork-HeavyItalic\", it will get Times-Roman rather than the intended font. All system UI font access should be through proper APIs such as CTFontCreateUIFontForLanguage() or +[NSFont systemFontOfSize:].\n",
      "2025-01-13 13:18:38.998 system_profiler[1789:39173] CoreText note: Client requested name \".NewYork-BlackItalic\", it will get Times-Roman rather than the intended font. All system UI font access should be through proper APIs such as CTFontCreateUIFontForLanguage() or +[NSFont systemFontOfSize:].\n",
      "2025-01-13 13:18:39.002 system_profiler[1789:39173] CoreText note: Client requested name \".NotoNastaliqUrduUI\", it will get Times-Roman rather than the intended font. All system UI font access should be through proper APIs such as CTFontCreateUIFontForLanguage() or +[NSFont systemFontOfSize:].\n",
      "2025-01-13 13:18:39.008 system_profiler[1789:39173] CoreText note: Client requested name \".NotoNastaliqUrduUI-Bold\", it will get Times-Roman rather than the intended font. All system UI font access should be through proper APIs such as CTFontCreateUIFontForLanguage() or +[NSFont systemFontOfSize:].\n",
      "2025-01-13 13:18:39.014 system_profiler[1789:39173] CoreText note: Client requested name \".PingFangHK-Regular\", it will get Times-Roman rather than the intended font. All system UI font access should be through proper APIs such as CTFontCreateUIFontForLanguage() or +[NSFont systemFontOfSize:].\n",
      "2025-01-13 13:18:39.019 system_profiler[1789:39173] CoreText note: Client requested name \".PingFangHK-Medium\", it will get Times-Roman rather than the intended font. All system UI font access should be through proper APIs such as CTFontCreateUIFontForLanguage() or +[NSFont systemFontOfSize:].\n",
      "2025-01-13 13:18:39.024 system_profiler[1789:39173] CoreText note: Client requested name \".PingFangHK-Light\", it will get Times-Roman rather than the intended font. All system UI font access should be through proper APIs such as CTFontCreateUIFontForLanguage() or +[NSFont systemFontOfSize:].\n",
      "2025-01-13 13:18:39.029 system_profiler[1789:39173] CoreText note: Client requested name \".PingFangHK-Thin\", it will get Times-Roman rather than the intended font. All system UI font access should be through proper APIs such as CTFontCreateUIFontForLanguage() or +[NSFont systemFontOfSize:].\n",
      "2025-01-13 13:18:39.033 system_profiler[1789:39173] CoreText note: Client requested name \".PingFangHK-Ultralight\", it will get Times-Roman rather than the intended font. All system UI font access should be through proper APIs such as CTFontCreateUIFontForLanguage() or +[NSFont systemFontOfSize:].\n",
      "2025-01-13 13:18:39.038 system_profiler[1789:39173] CoreText note: Client requested name \".PingFangHK-Semibold\", it will get Times-Roman rather than the intended font. All system UI font access should be through proper APIs such as CTFontCreateUIFontForLanguage() or +[NSFont systemFontOfSize:].\n",
      "2025-01-13 13:18:39.043 system_profiler[1789:39173] CoreText note: Client requested name \".PingFangSC-Regular\", it will get Times-Roman rather than the intended font. All system UI font access should be through proper APIs such as CTFontCreateUIFontForLanguage() or +[NSFont systemFontOfSize:].\n",
      "2025-01-13 13:18:39.047 system_profiler[1789:39173] CoreText note: Client requested name \".PingFangSC-Medium\", it will get Times-Roman rather than the intended font. All system UI font access should be through proper APIs such as CTFontCreateUIFontForLanguage() or +[NSFont systemFontOfSize:].\n",
      "2025-01-13 13:18:39.052 system_profiler[1789:39173] CoreText note: Client requested name \".PingFangSC-Light\", it will get Times-Roman rather than the intended font. All system UI font access should be through proper APIs such as CTFontCreateUIFontForLanguage() or +[NSFont systemFontOfSize:].\n",
      "2025-01-13 13:18:39.056 system_profiler[1789:39173] CoreText note: Client requested name \".PingFangSC-Thin\", it will get Times-Roman rather than the intended font. All system UI font access should be through proper APIs such as CTFontCreateUIFontForLanguage() or +[NSFont systemFontOfSize:].\n",
      "2025-01-13 13:18:39.060 system_profiler[1789:39173] CoreText note: Client requested name \".PingFangSC-Ultralight\", it will get Times-Roman rather than the intended font. All system UI font access should be through proper APIs such as CTFontCreateUIFontForLanguage() or +[NSFont systemFontOfSize:].\n",
      "2025-01-13 13:18:39.064 system_profiler[1789:39173] CoreText note: Client requested name \".PingFangSC-Semibold\", it will get Times-Roman rather than the intended font. All system UI font access should be through proper APIs such as CTFontCreateUIFontForLanguage() or +[NSFont systemFontOfSize:].\n",
      "2025-01-13 13:18:39.069 system_profiler[1789:39173] CoreText note: Client requested name \".PingFangTC-Regular\", it will get Times-Roman rather than the intended font. All system UI font access should be through proper APIs such as CTFontCreateUIFontForLanguage() or +[NSFont systemFontOfSize:].\n",
      "2025-01-13 13:18:39.073 system_profiler[1789:39173] CoreText note: Client requested name \".PingFangTC-Medium\", it will get Times-Roman rather than the intended font. All system UI font access should be through proper APIs such as CTFontCreateUIFontForLanguage() or +[NSFont systemFontOfSize:].\n",
      "2025-01-13 13:18:39.077 system_profiler[1789:39173] CoreText note: Client requested name \".PingFangTC-Light\", it will get Times-Roman rather than the intended font. All system UI font access should be through proper APIs such as CTFontCreateUIFontForLanguage() or +[NSFont systemFontOfSize:].\n",
      "2025-01-13 13:18:39.081 system_profiler[1789:39173] CoreText note: Client requested name \".PingFangTC-Thin\", it will get Times-Roman rather than the intended font. All system UI font access should be through proper APIs such as CTFontCreateUIFontForLanguage() or +[NSFont systemFontOfSize:].\n",
      "2025-01-13 13:18:39.085 system_profiler[1789:39173] CoreText note: Client requested name \".PingFangTC-Ultralight\", it will get Times-Roman rather than the intended font. All system UI font access should be through proper APIs such as CTFontCreateUIFontForLanguage() or +[NSFont systemFontOfSize:].\n",
      "2025-01-13 13:18:39.090 system_profiler[1789:39173] CoreText note: Client requested name \".PingFangTC-Semibold\", it will get Times-Roman rather than the intended font. All system UI font access should be through proper APIs such as CTFontCreateUIFontForLanguage() or +[NSFont systemFontOfSize:].\n",
      "2025-01-13 13:18:39.093 system_profiler[1789:39173] CoreText note: Client requested name \".SanaPUA\", it will get Times-Roman rather than the intended font. All system UI font access should be through proper APIs such as CTFontCreateUIFontForLanguage() or +[NSFont systemFontOfSize:].\n",
      "2025-01-13 13:18:39.097 system_profiler[1789:39173] CoreText note: Client requested name \".SavoyeLetPlainCC\", it will get Times-Roman rather than the intended font. All system UI font access should be through proper APIs such as CTFontCreateUIFontForLanguage() or +[NSFont systemFontOfSize:].\n",
      "2025-01-13 13:18:39.103 system_profiler[1789:39173] CoreText note: Client requested name \"..SFCompactDisplay-Regular\", it will get Times-Roman rather than the intended font. All system UI font access should be through proper APIs such as CTFontCreateUIFontForLanguage() or +[NSFont systemFontOfSize:].\n",
      "2025-01-13 13:18:39.110 system_profiler[1789:39173] CoreText note: Client requested name \".SFCompactDisplay-Regular\", it will get Times-Roman rather than the intended font. All system UI font access should be through proper APIs such as CTFontCreateUIFontForLanguage() or +[NSFont systemFontOfSize:].\n",
      "2025-01-13 13:18:39.114 system_profiler[1789:39173] CoreText note: Client requested name \".SFCompactDisplay-Medium\", it will get Times-Roman rather than the intended font. All system UI font access should be through proper APIs such as CTFontCreateUIFontForLanguage() or +[NSFont systemFontOfSize:].\n",
      "2025-01-13 13:18:39.123 system_profiler[1789:39173] CoreText note: Client requested name \".SFCompactDisplay-Light\", it will get Times-Roman rather than the intended font. All system UI font access should be through proper APIs such as CTFontCreateUIFontForLanguage() or +[NSFont systemFontOfSize:].\n",
      "2025-01-13 13:18:39.128 system_profiler[1789:39173] CoreText note: Client requested name \".SFCompactDisplay-Thin\", it will get Times-Roman rather than the intended font. All system UI font access should be through proper APIs such as CTFontCreateUIFontForLanguage() or +[NSFont systemFontOfSize:].\n",
      "2025-01-13 13:18:39.133 system_profiler[1789:39173] CoreText note: Client requested name \".SFCompactDisplay-Ultralight\", it will get Times-Roman rather than the intended font. All system UI font access should be through proper APIs such as CTFontCreateUIFontForLanguage() or +[NSFont systemFontOfSize:].\n",
      "2025-01-13 13:18:39.139 system_profiler[1789:39173] CoreText note: Client requested name \".SFCompactDisplay-Semibold\", it will get Times-Roman rather than the intended font. All system UI font access should be through proper APIs such as CTFontCreateUIFontForLanguage() or +[NSFont systemFontOfSize:].\n",
      "2025-01-13 13:18:39.144 system_profiler[1789:39173] CoreText note: Client requested name \".SFCompactDisplay-Bold\", it will get Times-Roman rather than the intended font. All system UI font access should be through proper APIs such as CTFontCreateUIFontForLanguage() or +[NSFont systemFontOfSize:].\n",
      "2025-01-13 13:18:39.149 system_profiler[1789:39173] CoreText note: Client requested name \".SFCompactDisplay-Heavy\", it will get Times-Roman rather than the intended font. All system UI font access should be through proper APIs such as CTFontCreateUIFontForLanguage() or +[NSFont systemFontOfSize:].\n",
      "2025-01-13 13:18:39.154 system_profiler[1789:39173] CoreText note: Client requested name \".SFCompactDisplay-Black\", it will get Times-Roman rather than the intended font. All system UI font access should be through proper APIs such as CTFontCreateUIFontForLanguage() or +[NSFont systemFontOfSize:].\n",
      "2025-01-13 13:18:39.161 system_profiler[1789:39173] CoreText note: Client requested name \"..SFCompactRounded-Regular\", it will get Times-Roman rather than the intended font. All system UI font access should be through proper APIs such as CTFontCreateUIFontForLanguage() or +[NSFont systemFontOfSize:].\n",
      "2025-01-13 13:18:39.167 system_profiler[1789:39173] CoreText note: Client requested name \".SFCompactRounded-Regular\", it will get Times-Roman rather than the intended font. All system UI font access should be through proper APIs such as CTFontCreateUIFontForLanguage() or +[NSFont systemFontOfSize:].\n",
      "2025-01-13 13:18:39.172 system_profiler[1789:39173] CoreText note: Client requested name \".SFCompactRounded-Medium\", it will get Times-Roman rather than the intended font. All system UI font access should be through proper APIs such as CTFontCreateUIFontForLanguage() or +[NSFont systemFontOfSize:].\n",
      "2025-01-13 13:18:39.177 system_profiler[1789:39173] CoreText note: Client requested name \".SFCompactRounded-Light\", it will get Times-Roman rather than the intended font. All system UI font access should be through proper APIs such as CTFontCreateUIFontForLanguage() or +[NSFont systemFontOfSize:].\n",
      "2025-01-13 13:18:39.183 system_profiler[1789:39173] CoreText note: Client requested name \".SFCompactRounded-Thin\", it will get Times-Roman rather than the intended font. All system UI font access should be through proper APIs such as CTFontCreateUIFontForLanguage() or +[NSFont systemFontOfSize:].\n",
      "2025-01-13 13:18:39.189 system_profiler[1789:39173] CoreText note: Client requested name \".SFCompactRounded-Ultralight\", it will get Times-Roman rather than the intended font. All system UI font access should be through proper APIs such as CTFontCreateUIFontForLanguage() or +[NSFont systemFontOfSize:].\n",
      "2025-01-13 13:18:39.197 system_profiler[1789:39173] CoreText note: Client requested name \".SFCompactRounded-Semibold\", it will get Times-Roman rather than the intended font. All system UI font access should be through proper APIs such as CTFontCreateUIFontForLanguage() or +[NSFont systemFontOfSize:].\n",
      "2025-01-13 13:18:39.207 system_profiler[1789:39173] CoreText note: Client requested name \".SFCompactRounded-Bold\", it will get Times-Roman rather than the intended font. All system UI font access should be through proper APIs such as CTFontCreateUIFontForLanguage() or +[NSFont systemFontOfSize:].\n",
      "2025-01-13 13:18:39.213 system_profiler[1789:39173] CoreText note: Client requested name \".SFCompactRounded-Heavy\", it will get Times-Roman rather than the intended font. All system UI font access should be through proper APIs such as CTFontCreateUIFontForLanguage() or +[NSFont systemFontOfSize:].\n",
      "2025-01-13 13:18:39.218 system_profiler[1789:39173] CoreText note: Client requested name \".SFCompactRounded-Black\", it will get Times-Roman rather than the intended font. All system UI font access should be through proper APIs such as CTFontCreateUIFontForLanguage() or +[NSFont systemFontOfSize:].\n",
      "2025-01-13 13:18:39.225 system_profiler[1789:39173] CoreText note: Client requested name \"..SFCompactText-Regular\", it will get Times-Roman rather than the intended font. All system UI font access should be through proper APIs such as CTFontCreateUIFontForLanguage() or +[NSFont systemFontOfSize:].\n",
      "2025-01-13 13:18:39.230 system_profiler[1789:39173] CoreText note: Client requested name \".SFCompactText-Regular\", it will get Times-Roman rather than the intended font. All system UI font access should be through proper APIs such as CTFontCreateUIFontForLanguage() or +[NSFont systemFontOfSize:].\n",
      "2025-01-13 13:18:39.235 system_profiler[1789:39173] CoreText note: Client requested name \".SFCompactText-RegularG1\", it will get Times-Roman rather than the intended font. All system UI font access should be through proper APIs such as CTFontCreateUIFontForLanguage() or +[NSFont systemFontOfSize:].\n",
      "2025-01-13 13:18:39.241 system_profiler[1789:39173] CoreText note: Client requested name \".SFCompactText-RegularG2\", it will get Times-Roman rather than the intended font. All system UI font access should be through proper APIs such as CTFontCreateUIFontForLanguage() or +[NSFont systemFontOfSize:].\n",
      "2025-01-13 13:18:39.248 system_profiler[1789:39173] CoreText note: Client requested name \".SFCompactText-RegularG3\", it will get Times-Roman rather than the intended font. All system UI font access should be through proper APIs such as CTFontCreateUIFontForLanguage() or +[NSFont systemFontOfSize:].\n",
      "2025-01-13 13:18:39.254 system_profiler[1789:39173] CoreText note: Client requested name \".SFCompactText-Medium\", it will get Times-Roman rather than the intended font. All system UI font access should be through proper APIs such as CTFontCreateUIFontForLanguage() or +[NSFont systemFontOfSize:].\n",
      "2025-01-13 13:18:39.259 system_profiler[1789:39173] CoreText note: Client requested name \".SFCompactText-Light\", it will get Times-Roman rather than the intended font. All system UI font access should be through proper APIs such as CTFontCreateUIFontForLanguage() or +[NSFont systemFontOfSize:].\n",
      "2025-01-13 13:18:39.266 system_profiler[1789:39173] CoreText note: Client requested name \".SFCompactText-Thin\", it will get Times-Roman rather than the intended font. All system UI font access should be through proper APIs such as CTFontCreateUIFontForLanguage() or +[NSFont systemFontOfSize:].\n",
      "2025-01-13 13:18:39.277 system_profiler[1789:39173] CoreText note: Client requested name \".SFCompactText-Ultralight\", it will get Times-Roman rather than the intended font. All system UI font access should be through proper APIs such as CTFontCreateUIFontForLanguage() or +[NSFont systemFontOfSize:].\n",
      "2025-01-13 13:18:39.287 system_profiler[1789:39173] CoreText note: Client requested name \"..SFCompactText-Italic\", it will get Times-Roman rather than the intended font. All system UI font access should be through proper APIs such as CTFontCreateUIFontForLanguage() or +[NSFont systemFontOfSize:].\n",
      "2025-01-13 13:18:39.296 system_profiler[1789:39173] CoreText note: Client requested name \".SFCompactText-RegularItalic\", it will get Times-Roman rather than the intended font. All system UI font access should be through proper APIs such as CTFontCreateUIFontForLanguage() or +[NSFont systemFontOfSize:].\n",
      "2025-01-13 13:18:39.305 system_profiler[1789:39173] CoreText note: Client requested name \".SFCompactText-RegularItalicG1\", it will get Times-Roman rather than the intended font. All system UI font access should be through proper APIs such as CTFontCreateUIFontForLanguage() or +[NSFont systemFontOfSize:].\n",
      "2025-01-13 13:18:39.312 system_profiler[1789:39173] CoreText note: Client requested name \".SFCompactText-RegularItalicG2\", it will get Times-Roman rather than the intended font. All system UI font access should be through proper APIs such as CTFontCreateUIFontForLanguage() or +[NSFont systemFontOfSize:].\n",
      "2025-01-13 13:18:39.321 system_profiler[1789:39173] CoreText note: Client requested name \".SFCompactText-RegularItalicG3\", it will get Times-Roman rather than the intended font. All system UI font access should be through proper APIs such as CTFontCreateUIFontForLanguage() or +[NSFont systemFontOfSize:].\n",
      "2025-01-13 13:18:39.333 system_profiler[1789:39173] CoreText note: Client requested name \".SFCompactText-MediumItalic\", it will get Times-Roman rather than the intended font. All system UI font access should be through proper APIs such as CTFontCreateUIFontForLanguage() or +[NSFont systemFontOfSize:].\n",
      "2025-01-13 13:18:39.338 system_profiler[1789:39173] CoreText note: Client requested name \".SFCompactText-LightItalic\", it will get Times-Roman rather than the intended font. All system UI font access should be through proper APIs such as CTFontCreateUIFontForLanguage() or +[NSFont systemFontOfSize:].\n",
      "2025-01-13 13:18:39.344 system_profiler[1789:39173] CoreText note: Client requested name \".SFCompactText-ThinItalic\", it will get Times-Roman rather than the intended font. All system UI font access should be through proper APIs such as CTFontCreateUIFontForLanguage() or +[NSFont systemFontOfSize:].\n",
      "2025-01-13 13:18:39.350 system_profiler[1789:39173] CoreText note: Client requested name \".SFCompactText-UltralightItalic\", it will get Times-Roman rather than the intended font. All system UI font access should be through proper APIs such as CTFontCreateUIFontForLanguage() or +[NSFont systemFontOfSize:].\n",
      "2025-01-13 13:18:39.356 system_profiler[1789:39173] CoreText note: Client requested name \".SFCompactText-Semibold\", it will get Times-Roman rather than the intended font. All system UI font access should be through proper APIs such as CTFontCreateUIFontForLanguage() or +[NSFont systemFontOfSize:].\n",
      "2025-01-13 13:18:39.362 system_profiler[1789:39173] CoreText note: Client requested name \".SFCompactText-Bold\", it will get Times-Roman rather than the intended font. All system UI font access should be through proper APIs such as CTFontCreateUIFontForLanguage() or +[NSFont systemFontOfSize:].\n",
      "2025-01-13 13:18:39.368 system_profiler[1789:39173] CoreText note: Client requested name \".SFCompactText-BoldG1\", it will get Times-Roman rather than the intended font. All system UI font access should be through proper APIs such as CTFontCreateUIFontForLanguage() or +[NSFont systemFontOfSize:].\n",
      "2025-01-13 13:18:39.374 system_profiler[1789:39173] CoreText note: Client requested name \".SFCompactText-BoldG2\", it will get Times-Roman rather than the intended font. All system UI font access should be through proper APIs such as CTFontCreateUIFontForLanguage() or +[NSFont systemFontOfSize:].\n",
      "2025-01-13 13:18:39.380 system_profiler[1789:39173] CoreText note: Client requested name \".SFCompactText-BoldG3\", it will get Times-Roman rather than the intended font. All system UI font access should be through proper APIs such as CTFontCreateUIFontForLanguage() or +[NSFont systemFontOfSize:].\n",
      "2025-01-13 13:18:39.385 system_profiler[1789:39173] CoreText note: Client requested name \".SFCompactText-Heavy\", it will get Times-Roman rather than the intended font. All system UI font access should be through proper APIs such as CTFontCreateUIFontForLanguage() or +[NSFont systemFontOfSize:].\n",
      "2025-01-13 13:18:39.391 system_profiler[1789:39173] CoreText note: Client requested name \".SFCompactText-SemiboldItalic\", it will get Times-Roman rather than the intended font. All system UI font access should be through proper APIs such as CTFontCreateUIFontForLanguage() or +[NSFont systemFontOfSize:].\n",
      "2025-01-13 13:18:39.396 system_profiler[1789:39173] CoreText note: Client requested name \".SFCompactText-BoldItalic\", it will get Times-Roman rather than the intended font. All system UI font access should be through proper APIs such as CTFontCreateUIFontForLanguage() or +[NSFont systemFontOfSize:].\n",
      "2025-01-13 13:18:39.401 system_profiler[1789:39173] CoreText note: Client requested name \".SFCompactText-BoldItalicG1\", it will get Times-Roman rather than the intended font. All system UI font access should be through proper APIs such as CTFontCreateUIFontForLanguage() or +[NSFont systemFontOfSize:].\n",
      "2025-01-13 13:18:39.407 system_profiler[1789:39173] CoreText note: Client requested name \".SFCompactText-BoldItalicG2\", it will get Times-Roman rather than the intended font. All system UI font access should be through proper APIs such as CTFontCreateUIFontForLanguage() or +[NSFont systemFontOfSize:].\n",
      "2025-01-13 13:18:39.414 system_profiler[1789:39173] CoreText note: Client requested name \".SFCompactText-BoldItalicG3\", it will get Times-Roman rather than the intended font. All system UI font access should be through proper APIs such as CTFontCreateUIFontForLanguage() or +[NSFont systemFontOfSize:].\n",
      "2025-01-13 13:18:39.422 system_profiler[1789:39173] CoreText note: Client requested name \".SFCompactText-HeavyItalic\", it will get Times-Roman rather than the intended font. All system UI font access should be through proper APIs such as CTFontCreateUIFontForLanguage() or +[NSFont systemFontOfSize:].\n",
      "2025-01-13 13:18:39.432 system_profiler[1789:39173] CoreText note: Client requested name \".SFNS-Regular\", it will get Times-Roman rather than the intended font. All system UI font access should be through proper APIs such as CTFontCreateUIFontForLanguage() or +[NSFont systemFontOfSize:].\n",
      "2025-01-13 13:18:39.443 system_profiler[1789:39173] CoreText note: Client requested name \".SFNS-RegularG1\", it will get Times-Roman rather than the intended font. All system UI font access should be through proper APIs such as CTFontCreateUIFontForLanguage() or +[NSFont systemFontOfSize:].\n",
      "2025-01-13 13:18:39.452 system_profiler[1789:39173] CoreText note: Client requested name \".SFNS-RegularG2\", it will get Times-Roman rather than the intended font. All system UI font access should be through proper APIs such as CTFontCreateUIFontForLanguage() or +[NSFont systemFontOfSize:].\n",
      "2025-01-13 13:18:39.459 system_profiler[1789:39173] CoreText note: Client requested name \".SFNS-RegularG3\", it will get Times-Roman rather than the intended font. All system UI font access should be through proper APIs such as CTFontCreateUIFontForLanguage() or +[NSFont systemFontOfSize:].\n",
      "2025-01-13 13:18:39.467 system_profiler[1789:39173] CoreText note: Client requested name \".SFNS-RegularG4\", it will get Times-Roman rather than the intended font. All system UI font access should be through proper APIs such as CTFontCreateUIFontForLanguage() or +[NSFont systemFontOfSize:].\n",
      "2025-01-13 13:18:39.474 system_profiler[1789:39173] CoreText note: Client requested name \".SFNS-Medium\", it will get Times-Roman rather than the intended font. All system UI font access should be through proper APIs such as CTFontCreateUIFontForLanguage() or +[NSFont systemFontOfSize:].\n",
      "2025-01-13 13:18:39.481 system_profiler[1789:39173] CoreText note: Client requested name \".SFNS-MediumG1\", it will get Times-Roman rather than the intended font. All system UI font access should be through proper APIs such as CTFontCreateUIFontForLanguage() or +[NSFont systemFontOfSize:].\n",
      "2025-01-13 13:18:39.489 system_profiler[1789:39173] CoreText note: Client requested name \".SFNS-MediumG2\", it will get Times-Roman rather than the intended font. All system UI font access should be through proper APIs such as CTFontCreateUIFontForLanguage() or +[NSFont systemFontOfSize:].\n",
      "2025-01-13 13:18:39.496 system_profiler[1789:39173] CoreText note: Client requested name \".SFNS-MediumG3\", it will get Times-Roman rather than the intended font. All system UI font access should be through proper APIs such as CTFontCreateUIFontForLanguage() or +[NSFont systemFontOfSize:].\n",
      "2025-01-13 13:18:39.503 system_profiler[1789:39173] CoreText note: Client requested name \".SFNS-MediumG4\", it will get Times-Roman rather than the intended font. All system UI font access should be through proper APIs such as CTFontCreateUIFontForLanguage() or +[NSFont systemFontOfSize:].\n",
      "2025-01-13 13:18:39.510 system_profiler[1789:39173] CoreText note: Client requested name \".SFNS-Light\", it will get Times-Roman rather than the intended font. All system UI font access should be through proper APIs such as CTFontCreateUIFontForLanguage() or +[NSFont systemFontOfSize:].\n",
      "2025-01-13 13:18:39.517 system_profiler[1789:39173] CoreText note: Client requested name \".SFNS-LightG1\", it will get Times-Roman rather than the intended font. All system UI font access should be through proper APIs such as CTFontCreateUIFontForLanguage() or +[NSFont systemFontOfSize:].\n",
      "2025-01-13 13:18:39.524 system_profiler[1789:39173] CoreText note: Client requested name \".SFNS-LightG2\", it will get Times-Roman rather than the intended font. All system UI font access should be through proper APIs such as CTFontCreateUIFontForLanguage() or +[NSFont systemFontOfSize:].\n",
      "2025-01-13 13:18:39.534 system_profiler[1789:39173] CoreText note: Client requested name \".SFNS-LightG3\", it will get Times-Roman rather than the intended font. All system UI font access should be through proper APIs such as CTFontCreateUIFontForLanguage() or +[NSFont systemFontOfSize:].\n",
      "2025-01-13 13:18:39.543 system_profiler[1789:39173] CoreText note: Client requested name \".SFNS-LightG4\", it will get Times-Roman rather than the intended font. All system UI font access should be through proper APIs such as CTFontCreateUIFontForLanguage() or +[NSFont systemFontOfSize:].\n",
      "2025-01-13 13:18:39.551 system_profiler[1789:39173] CoreText note: Client requested name \".SFNS-Thin\", it will get Times-Roman rather than the intended font. All system UI font access should be through proper APIs such as CTFontCreateUIFontForLanguage() or +[NSFont systemFontOfSize:].\n",
      "2025-01-13 13:18:39.559 system_profiler[1789:39173] CoreText note: Client requested name \".SFNS-ThinG1\", it will get Times-Roman rather than the intended font. All system UI font access should be through proper APIs such as CTFontCreateUIFontForLanguage() or +[NSFont systemFontOfSize:].\n",
      "2025-01-13 13:18:39.567 system_profiler[1789:39173] CoreText note: Client requested name \".SFNS-ThinG2\", it will get Times-Roman rather than the intended font. All system UI font access should be through proper APIs such as CTFontCreateUIFontForLanguage() or +[NSFont systemFontOfSize:].\n",
      "2025-01-13 13:18:39.576 system_profiler[1789:39173] CoreText note: Client requested name \".SFNS-ThinG3\", it will get Times-Roman rather than the intended font. All system UI font access should be through proper APIs such as CTFontCreateUIFontForLanguage() or +[NSFont systemFontOfSize:].\n",
      "2025-01-13 13:18:39.584 system_profiler[1789:39173] CoreText note: Client requested name \".SFNS-ThinG4\", it will get Times-Roman rather than the intended font. All system UI font access should be through proper APIs such as CTFontCreateUIFontForLanguage() or +[NSFont systemFontOfSize:].\n",
      "2025-01-13 13:18:39.592 system_profiler[1789:39173] CoreText note: Client requested name \".SFNS-Ultralight\", it will get Times-Roman rather than the intended font. All system UI font access should be through proper APIs such as CTFontCreateUIFontForLanguage() or +[NSFont systemFontOfSize:].\n",
      "2025-01-13 13:18:39.600 system_profiler[1789:39173] CoreText note: Client requested name \".SFNS-UltralightG1\", it will get Times-Roman rather than the intended font. All system UI font access should be through proper APIs such as CTFontCreateUIFontForLanguage() or +[NSFont systemFontOfSize:].\n",
      "2025-01-13 13:18:39.608 system_profiler[1789:39173] CoreText note: Client requested name \".SFNS-UltralightG2\", it will get Times-Roman rather than the intended font. All system UI font access should be through proper APIs such as CTFontCreateUIFontForLanguage() or +[NSFont systemFontOfSize:].\n",
      "2025-01-13 13:18:39.615 system_profiler[1789:39173] CoreText note: Client requested name \".SFNS-UltralightG3\", it will get Times-Roman rather than the intended font. All system UI font access should be through proper APIs such as CTFontCreateUIFontForLanguage() or +[NSFont systemFontOfSize:].\n",
      "2025-01-13 13:18:39.623 system_profiler[1789:39173] CoreText note: Client requested name \".SFNS-UltralightG4\", it will get Times-Roman rather than the intended font. All system UI font access should be through proper APIs such as CTFontCreateUIFontForLanguage() or +[NSFont systemFontOfSize:].\n",
      "2025-01-13 13:18:39.631 system_profiler[1789:39173] CoreText note: Client requested name \".SFNS-Ultrathin\", it will get Times-Roman rather than the intended font. All system UI font access should be through proper APIs such as CTFontCreateUIFontForLanguage() or +[NSFont systemFontOfSize:].\n",
      "2025-01-13 13:18:39.639 system_profiler[1789:39173] CoreText note: Client requested name \".SFNS-UltrathinG1\", it will get Times-Roman rather than the intended font. All system UI font access should be through proper APIs such as CTFontCreateUIFontForLanguage() or +[NSFont systemFontOfSize:].\n",
      "2025-01-13 13:18:39.655 system_profiler[1789:39173] CoreText note: Client requested name \".SFNS-UltrathinG2\", it will get Times-Roman rather than the intended font. All system UI font access should be through proper APIs such as CTFontCreateUIFontForLanguage() or +[NSFont systemFontOfSize:].\n",
      "2025-01-13 13:18:39.662 system_profiler[1789:39173] CoreText note: Client requested name \".SFNS-UltrathinG3\", it will get Times-Roman rather than the intended font. All system UI font access should be through proper APIs such as CTFontCreateUIFontForLanguage() or +[NSFont systemFontOfSize:].\n",
      "2025-01-13 13:18:39.670 system_profiler[1789:39173] CoreText note: Client requested name \".SFNS-UltrathinG4\", it will get Times-Roman rather than the intended font. All system UI font access should be through proper APIs such as CTFontCreateUIFontForLanguage() or +[NSFont systemFontOfSize:].\n",
      "2025-01-13 13:18:39.678 system_profiler[1789:39173] CoreText note: Client requested name \".SFNS-RegularItalic\", it will get Times-Roman rather than the intended font. All system UI font access should be through proper APIs such as CTFontCreateUIFontForLanguage() or +[NSFont systemFontOfSize:].\n",
      "2025-01-13 13:18:39.684 system_profiler[1789:39173] CoreText note: Client requested name \".SFNS-MediumItalic\", it will get Times-Roman rather than the intended font. All system UI font access should be through proper APIs such as CTFontCreateUIFontForLanguage() or +[NSFont systemFontOfSize:].\n",
      "2025-01-13 13:18:39.690 system_profiler[1789:39173] CoreText note: Client requested name \".SFNS-LightItalic\", it will get Times-Roman rather than the intended font. All system UI font access should be through proper APIs such as CTFontCreateUIFontForLanguage() or +[NSFont systemFontOfSize:].\n",
      "2025-01-13 13:18:39.697 system_profiler[1789:39173] CoreText note: Client requested name \".SFNS-ThinItalic\", it will get Times-Roman rather than the intended font. All system UI font access should be through proper APIs such as CTFontCreateUIFontForLanguage() or +[NSFont systemFontOfSize:].\n",
      "2025-01-13 13:18:39.703 system_profiler[1789:39173] CoreText note: Client requested name \".SFNS-UltralightItalic\", it will get Times-Roman rather than the intended font. All system UI font access should be through proper APIs such as CTFontCreateUIFontForLanguage() or +[NSFont systemFontOfSize:].\n",
      "2025-01-13 13:18:39.710 system_profiler[1789:39173] CoreText note: Client requested name \".SFNS-UltrathinItalic\", it will get Times-Roman rather than the intended font. All system UI font access should be through proper APIs such as CTFontCreateUIFontForLanguage() or +[NSFont systemFontOfSize:].\n",
      "2025-01-13 13:18:39.716 system_profiler[1789:39173] CoreText note: Client requested name \".SFNS-Semibold\", it will get Times-Roman rather than the intended font. All system UI font access should be through proper APIs such as CTFontCreateUIFontForLanguage() or +[NSFont systemFontOfSize:].\n",
      "2025-01-13 13:18:39.723 system_profiler[1789:39173] CoreText note: Client requested name \".SFNS-SemiboldG1\", it will get Times-Roman rather than the intended font. All system UI font access should be through proper APIs such as CTFontCreateUIFontForLanguage() or +[NSFont systemFontOfSize:].\n",
      "2025-01-13 13:18:39.731 system_profiler[1789:39173] CoreText note: Client requested name \".SFNS-SemiboldG2\", it will get Times-Roman rather than the intended font. All system UI font access should be through proper APIs such as CTFontCreateUIFontForLanguage() or +[NSFont systemFontOfSize:].\n",
      "2025-01-13 13:18:39.738 system_profiler[1789:39173] CoreText note: Client requested name \".SFNS-SemiboldG3\", it will get Times-Roman rather than the intended font. All system UI font access should be through proper APIs such as CTFontCreateUIFontForLanguage() or +[NSFont systemFontOfSize:].\n",
      "2025-01-13 13:18:39.748 system_profiler[1789:39173] CoreText note: Client requested name \".SFNS-SemiboldG4\", it will get Times-Roman rather than the intended font. All system UI font access should be through proper APIs such as CTFontCreateUIFontForLanguage() or +[NSFont systemFontOfSize:].\n",
      "2025-01-13 13:18:39.756 system_profiler[1789:39173] CoreText note: Client requested name \".SFNS-Bold\", it will get Times-Roman rather than the intended font. All system UI font access should be through proper APIs such as CTFontCreateUIFontForLanguage() or +[NSFont systemFontOfSize:].\n",
      "2025-01-13 13:18:39.764 system_profiler[1789:39173] CoreText note: Client requested name \".SFNS-BoldG1\", it will get Times-Roman rather than the intended font. All system UI font access should be through proper APIs such as CTFontCreateUIFontForLanguage() or +[NSFont systemFontOfSize:].\n",
      "2025-01-13 13:18:39.773 system_profiler[1789:39173] CoreText note: Client requested name \".SFNS-BoldG2\", it will get Times-Roman rather than the intended font. All system UI font access should be through proper APIs such as CTFontCreateUIFontForLanguage() or +[NSFont systemFontOfSize:].\n",
      "2025-01-13 13:18:39.782 system_profiler[1789:39173] CoreText note: Client requested name \".SFNS-BoldG3\", it will get Times-Roman rather than the intended font. All system UI font access should be through proper APIs such as CTFontCreateUIFontForLanguage() or +[NSFont systemFontOfSize:].\n",
      "2025-01-13 13:18:39.790 system_profiler[1789:39173] CoreText note: Client requested name \".SFNS-BoldG4\", it will get Times-Roman rather than the intended font. All system UI font access should be through proper APIs such as CTFontCreateUIFontForLanguage() or +[NSFont systemFontOfSize:].\n",
      "2025-01-13 13:18:39.798 system_profiler[1789:39173] CoreText note: Client requested name \".SFNS-Heavy\", it will get Times-Roman rather than the intended font. All system UI font access should be through proper APIs such as CTFontCreateUIFontForLanguage() or +[NSFont systemFontOfSize:].\n",
      "2025-01-13 13:18:39.805 system_profiler[1789:39173] CoreText note: Client requested name \".SFNS-HeavyG1\", it will get Times-Roman rather than the intended font. All system UI font access should be through proper APIs such as CTFontCreateUIFontForLanguage() or +[NSFont systemFontOfSize:].\n",
      "2025-01-13 13:18:39.813 system_profiler[1789:39173] CoreText note: Client requested name \".SFNS-HeavyG2\", it will get Times-Roman rather than the intended font. All system UI font access should be through proper APIs such as CTFontCreateUIFontForLanguage() or +[NSFont systemFontOfSize:].\n",
      "2025-01-13 13:18:39.821 system_profiler[1789:39173] CoreText note: Client requested name \".SFNS-HeavyG3\", it will get Times-Roman rather than the intended font. All system UI font access should be through proper APIs such as CTFontCreateUIFontForLanguage() or +[NSFont systemFontOfSize:].\n",
      "2025-01-13 13:18:39.829 system_profiler[1789:39173] CoreText note: Client requested name \".SFNS-HeavyG4\", it will get Times-Roman rather than the intended font. All system UI font access should be through proper APIs such as CTFontCreateUIFontForLanguage() or +[NSFont systemFontOfSize:].\n",
      "2025-01-13 13:18:39.837 system_profiler[1789:39173] CoreText note: Client requested name \".SFNS-Black\", it will get Times-Roman rather than the intended font. All system UI font access should be through proper APIs such as CTFontCreateUIFontForLanguage() or +[NSFont systemFontOfSize:].\n",
      "2025-01-13 13:18:39.844 system_profiler[1789:39173] CoreText note: Client requested name \".SFNS-SemiboldItalic\", it will get Times-Roman rather than the intended font. All system UI font access should be through proper APIs such as CTFontCreateUIFontForLanguage() or +[NSFont systemFontOfSize:].\n",
      "2025-01-13 13:18:39.851 system_profiler[1789:39173] CoreText note: Client requested name \".SFNS-BoldItalic\", it will get Times-Roman rather than the intended font. All system UI font access should be through proper APIs such as CTFontCreateUIFontForLanguage() or +[NSFont systemFontOfSize:].\n",
      "2025-01-13 13:18:39.860 system_profiler[1789:39173] CoreText note: Client requested name \".SFNS-HeavyItalic\", it will get Times-Roman rather than the intended font. All system UI font access should be through proper APIs such as CTFontCreateUIFontForLanguage() or +[NSFont systemFontOfSize:].\n",
      "2025-01-13 13:18:39.887 system_profiler[1789:39173] CoreText note: Client requested name \".SFNS-BlackItalic\", it will get Times-Roman rather than the intended font. All system UI font access should be through proper APIs such as CTFontCreateUIFontForLanguage() or +[NSFont systemFontOfSize:].\n",
      "2025-01-13 13:18:39.898 system_profiler[1789:39173] CoreText note: Client requested name \".SFNSDisplayCondensed-Regular\", it will get Times-Roman rather than the intended font. All system UI font access should be through proper APIs such as CTFontCreateUIFontForLanguage() or +[NSFont systemFontOfSize:].\n",
      "2025-01-13 13:18:39.907 system_profiler[1789:39173] CoreText note: Client requested name \".SFNSDisplayCondensed-Medium\", it will get Times-Roman rather than the intended font. All system UI font access should be through proper APIs such as CTFontCreateUIFontForLanguage() or +[NSFont systemFontOfSize:].\n",
      "2025-01-13 13:18:39.915 system_profiler[1789:39173] CoreText note: Client requested name \".SFNSDisplayCondensed-Light\", it will get Times-Roman rather than the intended font. All system UI font access should be through proper APIs such as CTFontCreateUIFontForLanguage() or +[NSFont systemFontOfSize:].\n",
      "2025-01-13 13:18:39.923 system_profiler[1789:39173] CoreText note: Client requested name \".SFNSDisplayCondensed-Thin\", it will get Times-Roman rather than the intended font. All system UI font access should be through proper APIs such as CTFontCreateUIFontForLanguage() or +[NSFont systemFontOfSize:].\n",
      "2025-01-13 13:18:39.930 system_profiler[1789:39173] CoreText note: Client requested name \".SFNSDisplayCondensed-Ultralight\", it will get Times-Roman rather than the intended font. All system UI font access should be through proper APIs such as CTFontCreateUIFontForLanguage() or +[NSFont systemFontOfSize:].\n",
      "2025-01-13 13:18:39.938 system_profiler[1789:39173] CoreText note: Client requested name \".SFNSDisplayCondensed-Semibold\", it will get Times-Roman rather than the intended font. All system UI font access should be through proper APIs such as CTFontCreateUIFontForLanguage() or +[NSFont systemFontOfSize:].\n",
      "2025-01-13 13:18:39.947 system_profiler[1789:39173] CoreText note: Client requested name \".SFNSDisplayCondensed-Bold\", it will get Times-Roman rather than the intended font. All system UI font access should be through proper APIs such as CTFontCreateUIFontForLanguage() or +[NSFont systemFontOfSize:].\n",
      "2025-01-13 13:18:39.957 system_profiler[1789:39173] CoreText note: Client requested name \".SFNSDisplayCondensed-Heavy\", it will get Times-Roman rather than the intended font. All system UI font access should be through proper APIs such as CTFontCreateUIFontForLanguage() or +[NSFont systemFontOfSize:].\n",
      "2025-01-13 13:18:39.968 system_profiler[1789:39173] CoreText note: Client requested name \".SFNSDisplayCondensed-Black\", it will get Times-Roman rather than the intended font. All system UI font access should be through proper APIs such as CTFontCreateUIFontForLanguage() or +[NSFont systemFontOfSize:].\n",
      "2025-01-13 13:18:39.974 system_profiler[1789:39173] CoreText note: Client requested name \".SFNSMono-Regular\", it will get Times-Roman rather than the intended font. All system UI font access should be through proper APIs such as CTFontCreateUIFontForLanguage() or +[NSFont systemFontOfSize:].\n",
      "2025-01-13 13:18:39.981 system_profiler[1789:39173] CoreText note: Client requested name \".SFNSMono-Medium\", it will get Times-Roman rather than the intended font. All system UI font access should be through proper APIs such as CTFontCreateUIFontForLanguage() or +[NSFont systemFontOfSize:].\n",
      "2025-01-13 13:18:39.987 system_profiler[1789:39173] CoreText note: Client requested name \".SFNSMono-Light\", it will get Times-Roman rather than the intended font. All system UI font access should be through proper APIs such as CTFontCreateUIFontForLanguage() or +[NSFont systemFontOfSize:].\n",
      "2025-01-13 13:18:39.994 system_profiler[1789:39173] CoreText note: Client requested name \".SFNSMono-RegularItalic\", it will get Times-Roman rather than the intended font. All system UI font access should be through proper APIs such as CTFontCreateUIFontForLanguage() or +[NSFont systemFontOfSize:].\n",
      "2025-01-13 13:18:40.000 system_profiler[1789:39173] CoreText note: Client requested name \".SFNSMono-MediumItalic\", it will get Times-Roman rather than the intended font. All system UI font access should be through proper APIs such as CTFontCreateUIFontForLanguage() or +[NSFont systemFontOfSize:].\n",
      "2025-01-13 13:18:40.007 system_profiler[1789:39173] CoreText note: Client requested name \".SFNSMono-LightItalic\", it will get Times-Roman rather than the intended font. All system UI font access should be through proper APIs such as CTFontCreateUIFontForLanguage() or +[NSFont systemFontOfSize:].\n",
      "2025-01-13 13:18:40.012 system_profiler[1789:39173] CoreText note: Client requested name \".SFNSMono-Semibold\", it will get Times-Roman rather than the intended font. All system UI font access should be through proper APIs such as CTFontCreateUIFontForLanguage() or +[NSFont systemFontOfSize:].\n",
      "2025-01-13 13:18:40.019 system_profiler[1789:39173] CoreText note: Client requested name \".SFNSMono-Bold\", it will get Times-Roman rather than the intended font. All system UI font access should be through proper APIs such as CTFontCreateUIFontForLanguage() or +[NSFont systemFontOfSize:].\n",
      "2025-01-13 13:18:40.027 system_profiler[1789:39173] CoreText note: Client requested name \".SFNSMono-Heavy\", it will get Times-Roman rather than the intended font. All system UI font access should be through proper APIs such as CTFontCreateUIFontForLanguage() or +[NSFont systemFontOfSize:].\n",
      "2025-01-13 13:18:40.034 system_profiler[1789:39173] CoreText note: Client requested name \".SFNSMono-SemiboldItalic\", it will get Times-Roman rather than the intended font. All system UI font access should be through proper APIs such as CTFontCreateUIFontForLanguage() or +[NSFont systemFontOfSize:].\n",
      "2025-01-13 13:18:40.041 system_profiler[1789:39173] CoreText note: Client requested name \".SFNSMono-BoldItalic\", it will get Times-Roman rather than the intended font. All system UI font access should be through proper APIs such as CTFontCreateUIFontForLanguage() or +[NSFont systemFontOfSize:].\n",
      "2025-01-13 13:18:40.047 system_profiler[1789:39173] CoreText note: Client requested name \".SFNSMono-HeavyItalic\", it will get Times-Roman rather than the intended font. All system UI font access should be through proper APIs such as CTFontCreateUIFontForLanguage() or +[NSFont systemFontOfSize:].\n",
      "2025-01-13 13:18:40.056 system_profiler[1789:39173] CoreText note: Client requested name \".SFNSRounded-Regular\", it will get Times-Roman rather than the intended font. All system UI font access should be through proper APIs such as CTFontCreateUIFontForLanguage() or +[NSFont systemFontOfSize:].\n",
      "2025-01-13 13:18:40.066 system_profiler[1789:39173] CoreText note: Client requested name \".SFNSRounded-RegularG1\", it will get Times-Roman rather than the intended font. All system UI font access should be through proper APIs such as CTFontCreateUIFontForLanguage() or +[NSFont systemFontOfSize:].\n",
      "2025-01-13 13:18:40.075 system_profiler[1789:39173] CoreText note: Client requested name \".SFNSRounded-RegularG2\", it will get Times-Roman rather than the intended font. All system UI font access should be through proper APIs such as CTFontCreateUIFontForLanguage() or +[NSFont systemFontOfSize:].\n",
      "2025-01-13 13:18:40.085 system_profiler[1789:39173] CoreText note: Client requested name \".SFNSRounded-RegularG3\", it will get Times-Roman rather than the intended font. All system UI font access should be through proper APIs such as CTFontCreateUIFontForLanguage() or +[NSFont systemFontOfSize:].\n",
      "2025-01-13 13:18:40.099 system_profiler[1789:39173] CoreText note: Client requested name \".SFNSRounded-RegularG4\", it will get Times-Roman rather than the intended font. All system UI font access should be through proper APIs such as CTFontCreateUIFontForLanguage() or +[NSFont systemFontOfSize:].\n",
      "2025-01-13 13:18:40.109 system_profiler[1789:39173] CoreText note: Client requested name \".SFNSRounded-Medium\", it will get Times-Roman rather than the intended font. All system UI font access should be through proper APIs such as CTFontCreateUIFontForLanguage() or +[NSFont systemFontOfSize:].\n",
      "2025-01-13 13:18:40.122 system_profiler[1789:39173] CoreText note: Client requested name \".SFNSRounded-MediumG1\", it will get Times-Roman rather than the intended font. All system UI font access should be through proper APIs such as CTFontCreateUIFontForLanguage() or +[NSFont systemFontOfSize:].\n",
      "2025-01-13 13:18:40.132 system_profiler[1789:39173] CoreText note: Client requested name \".SFNSRounded-MediumG2\", it will get Times-Roman rather than the intended font. All system UI font access should be through proper APIs such as CTFontCreateUIFontForLanguage() or +[NSFont systemFontOfSize:].\n",
      "2025-01-13 13:18:40.140 system_profiler[1789:39173] CoreText note: Client requested name \".SFNSRounded-MediumG3\", it will get Times-Roman rather than the intended font. All system UI font access should be through proper APIs such as CTFontCreateUIFontForLanguage() or +[NSFont systemFontOfSize:].\n",
      "2025-01-13 13:18:40.149 system_profiler[1789:39173] CoreText note: Client requested name \".SFNSRounded-MediumG4\", it will get Times-Roman rather than the intended font. All system UI font access should be through proper APIs such as CTFontCreateUIFontForLanguage() or +[NSFont systemFontOfSize:].\n",
      "2025-01-13 13:18:40.162 system_profiler[1789:39173] CoreText note: Client requested name \".SFNSRounded-Light\", it will get Times-Roman rather than the intended font. All system UI font access should be through proper APIs such as CTFontCreateUIFontForLanguage() or +[NSFont systemFontOfSize:].\n",
      "2025-01-13 13:18:40.173 system_profiler[1789:39173] CoreText note: Client requested name \".SFNSRounded-LightG1\", it will get Times-Roman rather than the intended font. All system UI font access should be through proper APIs such as CTFontCreateUIFontForLanguage() or +[NSFont systemFontOfSize:].\n",
      "2025-01-13 13:18:40.183 system_profiler[1789:39173] CoreText note: Client requested name \".SFNSRounded-LightG2\", it will get Times-Roman rather than the intended font. All system UI font access should be through proper APIs such as CTFontCreateUIFontForLanguage() or +[NSFont systemFontOfSize:].\n",
      "2025-01-13 13:18:40.193 system_profiler[1789:39173] CoreText note: Client requested name \".SFNSRounded-LightG3\", it will get Times-Roman rather than the intended font. All system UI font access should be through proper APIs such as CTFontCreateUIFontForLanguage() or +[NSFont systemFontOfSize:].\n",
      "2025-01-13 13:18:40.201 system_profiler[1789:39173] CoreText note: Client requested name \".SFNSRounded-LightG4\", it will get Times-Roman rather than the intended font. All system UI font access should be through proper APIs such as CTFontCreateUIFontForLanguage() or +[NSFont systemFontOfSize:].\n",
      "2025-01-13 13:18:40.208 system_profiler[1789:39173] CoreText note: Client requested name \".SFNSRounded-Thin\", it will get Times-Roman rather than the intended font. All system UI font access should be through proper APIs such as CTFontCreateUIFontForLanguage() or +[NSFont systemFontOfSize:].\n",
      "2025-01-13 13:18:40.214 system_profiler[1789:39173] CoreText note: Client requested name \".SFNSRounded-ThinG1\", it will get Times-Roman rather than the intended font. All system UI font access should be through proper APIs such as CTFontCreateUIFontForLanguage() or +[NSFont systemFontOfSize:].\n",
      "2025-01-13 13:18:40.221 system_profiler[1789:39173] CoreText note: Client requested name \".SFNSRounded-ThinG2\", it will get Times-Roman rather than the intended font. All system UI font access should be through proper APIs such as CTFontCreateUIFontForLanguage() or +[NSFont systemFontOfSize:].\n",
      "2025-01-13 13:18:40.228 system_profiler[1789:39173] CoreText note: Client requested name \".SFNSRounded-ThinG3\", it will get Times-Roman rather than the intended font. All system UI font access should be through proper APIs such as CTFontCreateUIFontForLanguage() or +[NSFont systemFontOfSize:].\n",
      "2025-01-13 13:18:40.238 system_profiler[1789:39173] CoreText note: Client requested name \".SFNSRounded-ThinG4\", it will get Times-Roman rather than the intended font. All system UI font access should be through proper APIs such as CTFontCreateUIFontForLanguage() or +[NSFont systemFontOfSize:].\n",
      "2025-01-13 13:18:40.245 system_profiler[1789:39173] CoreText note: Client requested name \".SFNSRounded-Ultralight\", it will get Times-Roman rather than the intended font. All system UI font access should be through proper APIs such as CTFontCreateUIFontForLanguage() or +[NSFont systemFontOfSize:].\n",
      "2025-01-13 13:18:40.252 system_profiler[1789:39173] CoreText note: Client requested name \".SFNSRounded-UltralightG1\", it will get Times-Roman rather than the intended font. All system UI font access should be through proper APIs such as CTFontCreateUIFontForLanguage() or +[NSFont systemFontOfSize:].\n",
      "2025-01-13 13:18:40.259 system_profiler[1789:39173] CoreText note: Client requested name \".SFNSRounded-UltralightG2\", it will get Times-Roman rather than the intended font. All system UI font access should be through proper APIs such as CTFontCreateUIFontForLanguage() or +[NSFont systemFontOfSize:].\n",
      "2025-01-13 13:18:40.266 system_profiler[1789:39173] CoreText note: Client requested name \".SFNSRounded-UltralightG3\", it will get Times-Roman rather than the intended font. All system UI font access should be through proper APIs such as CTFontCreateUIFontForLanguage() or +[NSFont systemFontOfSize:].\n",
      "2025-01-13 13:18:40.274 system_profiler[1789:39173] CoreText note: Client requested name \".SFNSRounded-UltralightG4\", it will get Times-Roman rather than the intended font. All system UI font access should be through proper APIs such as CTFontCreateUIFontForLanguage() or +[NSFont systemFontOfSize:].\n",
      "2025-01-13 13:18:40.281 system_profiler[1789:39173] CoreText note: Client requested name \".SFNSRounded-Ultrathin\", it will get Times-Roman rather than the intended font. All system UI font access should be through proper APIs such as CTFontCreateUIFontForLanguage() or +[NSFont systemFontOfSize:].\n",
      "2025-01-13 13:18:40.290 system_profiler[1789:39173] CoreText note: Client requested name \".SFNSRounded-Semibold\", it will get Times-Roman rather than the intended font. All system UI font access should be through proper APIs such as CTFontCreateUIFontForLanguage() or +[NSFont systemFontOfSize:].\n",
      "2025-01-13 13:18:40.297 system_profiler[1789:39173] CoreText note: Client requested name \".SFNSRounded-SemiboldG1\", it will get Times-Roman rather than the intended font. All system UI font access should be through proper APIs such as CTFontCreateUIFontForLanguage() or +[NSFont systemFontOfSize:].\n",
      "2025-01-13 13:18:40.304 system_profiler[1789:39173] CoreText note: Client requested name \".SFNSRounded-SemiboldG2\", it will get Times-Roman rather than the intended font. All system UI font access should be through proper APIs such as CTFontCreateUIFontForLanguage() or +[NSFont systemFontOfSize:].\n",
      "2025-01-13 13:18:40.312 system_profiler[1789:39173] CoreText note: Client requested name \".SFNSRounded-SemiboldG3\", it will get Times-Roman rather than the intended font. All system UI font access should be through proper APIs such as CTFontCreateUIFontForLanguage() or +[NSFont systemFontOfSize:].\n",
      "2025-01-13 13:18:40.321 system_profiler[1789:39173] CoreText note: Client requested name \".SFNSRounded-SemiboldG4\", it will get Times-Roman rather than the intended font. All system UI font access should be through proper APIs such as CTFontCreateUIFontForLanguage() or +[NSFont systemFontOfSize:].\n",
      "2025-01-13 13:18:40.332 system_profiler[1789:39173] CoreText note: Client requested name \".SFNSRounded-Bold\", it will get Times-Roman rather than the intended font. All system UI font access should be through proper APIs such as CTFontCreateUIFontForLanguage() or +[NSFont systemFontOfSize:].\n",
      "2025-01-13 13:18:40.341 system_profiler[1789:39173] CoreText note: Client requested name \".SFNSRounded-BoldG1\", it will get Times-Roman rather than the intended font. All system UI font access should be through proper APIs such as CTFontCreateUIFontForLanguage() or +[NSFont systemFontOfSize:].\n",
      "2025-01-13 13:18:40.348 system_profiler[1789:39173] CoreText note: Client requested name \".SFNSRounded-BoldG2\", it will get Times-Roman rather than the intended font. All system UI font access should be through proper APIs such as CTFontCreateUIFontForLanguage() or +[NSFont systemFontOfSize:].\n",
      "2025-01-13 13:18:40.356 system_profiler[1789:39173] CoreText note: Client requested name \".SFNSRounded-BoldG3\", it will get Times-Roman rather than the intended font. All system UI font access should be through proper APIs such as CTFontCreateUIFontForLanguage() or +[NSFont systemFontOfSize:].\n",
      "2025-01-13 13:18:40.363 system_profiler[1789:39173] CoreText note: Client requested name \".SFNSRounded-BoldG4\", it will get Times-Roman rather than the intended font. All system UI font access should be through proper APIs such as CTFontCreateUIFontForLanguage() or +[NSFont systemFontOfSize:].\n",
      "2025-01-13 13:18:40.371 system_profiler[1789:39173] CoreText note: Client requested name \".SFNSRounded-Heavy\", it will get Times-Roman rather than the intended font. All system UI font access should be through proper APIs such as CTFontCreateUIFontForLanguage() or +[NSFont systemFontOfSize:].\n",
      "Matplotlib is building the font cache; this may take a moment.\n",
      "2025-01-13 13:18:40.386 system_profiler[1789:39173] CoreText note: Client requested name \".SFNSRounded-HeavyG1\", it will get Times-Roman rather than the intended font. All system UI font access should be through proper APIs such as CTFontCreateUIFontForLanguage() or +[NSFont systemFontOfSize:].\n",
      "2025-01-13 13:18:40.396 system_profiler[1789:39173] CoreText note: Client requested name \".SFNSRounded-HeavyG2\", it will get Times-Roman rather than the intended font. All system UI font access should be through proper APIs such as CTFontCreateUIFontForLanguage() or +[NSFont systemFontOfSize:].\n",
      "2025-01-13 13:18:40.404 system_profiler[1789:39173] CoreText note: Client requested name \".SFNSRounded-HeavyG3\", it will get Times-Roman rather than the intended font. All system UI font access should be through proper APIs such as CTFontCreateUIFontForLanguage() or +[NSFont systemFontOfSize:].\n",
      "2025-01-13 13:18:40.413 system_profiler[1789:39173] CoreText note: Client requested name \".SFNSRounded-HeavyG4\", it will get Times-Roman rather than the intended font. All system UI font access should be through proper APIs such as CTFontCreateUIFontForLanguage() or +[NSFont systemFontOfSize:].\n",
      "2025-01-13 13:18:40.424 system_profiler[1789:39173] CoreText note: Client requested name \".SFNSRounded-UltrathinG1\", it will get Times-Roman rather than the intended font. All system UI font access should be through proper APIs such as CTFontCreateUIFontForLanguage() or +[NSFont systemFontOfSize:].\n",
      "2025-01-13 13:18:40.436 system_profiler[1789:39173] CoreText note: Client requested name \".SFNSRounded-UltrathinG2\", it will get Times-Roman rather than the intended font. All system UI font access should be through proper APIs such as CTFontCreateUIFontForLanguage() or +[NSFont systemFontOfSize:].\n",
      "2025-01-13 13:18:40.445 system_profiler[1789:39173] CoreText note: Client requested name \".SFNSRounded-UltrathinG3\", it will get Times-Roman rather than the intended font. All system UI font access should be through proper APIs such as CTFontCreateUIFontForLanguage() or +[NSFont systemFontOfSize:].\n",
      "2025-01-13 13:18:40.456 system_profiler[1789:39173] CoreText note: Client requested name \".SFNSRounded-UltrathinG4\", it will get Times-Roman rather than the intended font. All system UI font access should be through proper APIs such as CTFontCreateUIFontForLanguage() or +[NSFont systemFontOfSize:].\n",
      "2025-01-13 13:18:40.468 system_profiler[1789:39173] CoreText note: Client requested name \".SFNSRounded-Black\", it will get Times-Roman rather than the intended font. All system UI font access should be through proper APIs such as CTFontCreateUIFontForLanguage() or +[NSFont systemFontOfSize:].\n",
      "2025-01-13 13:18:40.480 system_profiler[1789:39173] CoreText note: Client requested name \".SFNSTextCondensed-Regular\", it will get Times-Roman rather than the intended font. All system UI font access should be through proper APIs such as CTFontCreateUIFontForLanguage() or +[NSFont systemFontOfSize:].\n",
      "2025-01-13 13:18:40.493 system_profiler[1789:39173] CoreText note: Client requested name \".SFNSTextCondensed-Medium\", it will get Times-Roman rather than the intended font. All system UI font access should be through proper APIs such as CTFontCreateUIFontForLanguage() or +[NSFont systemFontOfSize:].\n",
      "2025-01-13 13:18:40.507 system_profiler[1789:39173] CoreText note: Client requested name \".SFNSTextCondensed-Light\", it will get Times-Roman rather than the intended font. All system UI font access should be through proper APIs such as CTFontCreateUIFontForLanguage() or +[NSFont systemFontOfSize:].\n",
      "2025-01-13 13:18:40.518 system_profiler[1789:39173] CoreText note: Client requested name \".SFNSTextCondensed-Semibold\", it will get Times-Roman rather than the intended font. All system UI font access should be through proper APIs such as CTFontCreateUIFontForLanguage() or +[NSFont systemFontOfSize:].\n",
      "2025-01-13 13:18:40.528 system_profiler[1789:39173] CoreText note: Client requested name \".SFNSTextCondensed-Bold\", it will get Times-Roman rather than the intended font. All system UI font access should be through proper APIs such as CTFontCreateUIFontForLanguage() or +[NSFont systemFontOfSize:].\n",
      "2025-01-13 13:18:40.540 system_profiler[1789:39173] CoreText note: Client requested name \".SFNSTextCondensed-Heavy\", it will get Times-Roman rather than the intended font. All system UI font access should be through proper APIs such as CTFontCreateUIFontForLanguage() or +[NSFont systemFontOfSize:].\n"
     ]
    }
   ],
   "source": [
    "# As always, we start with our favorite standard imports. \n",
    "\n",
    "import numpy as np\n",
    "import pandas as pd\n",
    "import matplotlib.pyplot as plt \n",
    "%matplotlib inline"
   ]
  },
  {
   "cell_type": "markdown",
   "metadata": {},
   "source": [
    "First, load in your csv file as a pandas data frame. Save this data frame as `auto`."
   ]
  },
  {
   "cell_type": "code",
   "execution_count": null,
   "metadata": {},
   "outputs": [],
   "source": [
    "# If you are pulling straight from the course's git repo, \n",
    "# this command will open the file already on your system.\n",
    "# However, if you are doing something else to access the \n",
    "# notebook, such as downloading from the github website,\n",
    "# you might need to modify this command to point to the \n",
    "# right place.\n",
    "auto = pd.read_csv('../../DataSets/Auto.csv')"
   ]
  },
  {
   "cell_type": "markdown",
   "metadata": {},
   "source": [
    "If that worked and you managed to load the file, the following command should show you the top of your data frame. "
   ]
  },
  {
   "cell_type": "code",
   "execution_count": null,
   "metadata": {
    "scrolled": true
   },
   "outputs": [],
   "source": [
    "auto.head()"
   ]
  },
  {
   "cell_type": "markdown",
   "metadata": {},
   "source": [
    "...and the following command show show you the column labels"
   ]
  },
  {
   "cell_type": "code",
   "execution_count": null,
   "metadata": {},
   "outputs": [],
   "source": [
    "auto.columns"
   ]
  },
  {
   "cell_type": "markdown",
   "metadata": {},
   "source": [
    "The `shape` command tells us about the size of the dataframe."
   ]
  },
  {
   "cell_type": "code",
   "execution_count": null,
   "metadata": {},
   "outputs": [],
   "source": [
    "auto.shape"
   ]
  },
  {
   "cell_type": "markdown",
   "metadata": {},
   "source": [
    "&#9989; **<font color=red>Q:</font>** How many data points do we have? How many variables do we have?"
   ]
  },
  {
   "cell_type": "markdown",
   "metadata": {},
   "source": [
    "*Your answer here*"
   ]
  },
  {
   "cell_type": "markdown",
   "metadata": {},
   "source": [
    "# 3. Cleaning up the data set \n",
    "\n",
    "Here's one thing this class won't really show you..... real data is MESSY. You almost never are handed a data set that's ready to go for analysis off the bat. You'll have to spend a bit of time cleaning up your data before you can use the awesome tools we have in this class. So, to that end, let's do some careful checking of this data set before we get started. My favorite place to start with any data set is the `describe` command. "
   ]
  },
  {
   "cell_type": "code",
   "execution_count": null,
   "metadata": {
    "scrolled": true
   },
   "outputs": [],
   "source": [
    "auto.describe()"
   ]
  },
  {
   "cell_type": "markdown",
   "metadata": {},
   "source": [
    "&#9989; **<font color=red>Q:</font>** What columns are missing from the `describe` output?"
   ]
  },
  {
   "cell_type": "markdown",
   "metadata": {},
   "source": [
    "*Your answer here*"
   ]
  },
  {
   "cell_type": "markdown",
   "metadata": {},
   "source": [
    "The next thing to check is to see if there is any missing data.  Usually, this is an entry in your dataframe that shows up as `np.nan`, which is a special value from numpy that just means the data is missing from that cell. \n",
    "\n",
    "We can use the `isna()` command to see if there are any null values around. "
   ]
  },
  {
   "cell_type": "code",
   "execution_count": null,
   "metadata": {},
   "outputs": [],
   "source": [
    "auto[auto.isna().any(axis=1)]"
   ]
  },
  {
   "cell_type": "markdown",
   "metadata": {},
   "source": [
    "Hey cool, no NaN's to be found! You know what, maybe it's a good idea just to take a second look. Check out the first 40 rows of the data set:"
   ]
  },
  {
   "cell_type": "code",
   "execution_count": null,
   "metadata": {},
   "outputs": [],
   "source": [
    "auto.head(40)"
   ]
  },
  {
   "cell_type": "markdown",
   "metadata": {},
   "source": [
    "&#9989; **<font color=red>Q:</font>** What symbol(s) is this data set using to represent missing data?"
   ]
  },
  {
   "cell_type": "markdown",
   "metadata": {},
   "source": [
    "*Your answer here*"
   ]
  },
  {
   "cell_type": "markdown",
   "metadata": {},
   "source": [
    "&#9989; **<font color=red>DO THIS:</font>** Well, it's not the end of the world, but there are lots of built in commands in pandas that make life easier when we have `np.nan` used as the missing value entry. So, use the `replace` command to swap out the missing value they used for `np.nan` everywhere it shows up."
   ]
  },
  {
   "cell_type": "code",
   "execution_count": null,
   "metadata": {},
   "outputs": [],
   "source": [
    "#---- your code goes in here! ---#"
   ]
  },
  {
   "cell_type": "markdown",
   "metadata": {},
   "source": [
    "If you did that right, the following command should show you the 5 rows that now have a `np.nan` entry somewhere."
   ]
  },
  {
   "cell_type": "code",
   "execution_count": null,
   "metadata": {},
   "outputs": [],
   "source": [
    "# Find the rows with a NaN somewhere\n",
    "auto[auto.isna().any(axis=1)]"
   ]
  },
  {
   "cell_type": "markdown",
   "metadata": {},
   "source": [
    "&#9989; **<font color=red>DO THIS:</font>** Finally, let's just get rid of those rows from the data set entirely.  Overwrite the `auto` data frame with the version that deletes those 5 rows using the `dropna` command. "
   ]
  },
  {
   "cell_type": "code",
   "execution_count": null,
   "metadata": {},
   "outputs": [],
   "source": [
    "#---- your code goes in here! ---#"
   ]
  },
  {
   "cell_type": "code",
   "execution_count": null,
   "metadata": {},
   "outputs": [],
   "source": [
    "# If that worked, you now have 392 rows\n",
    "auto.shape"
   ]
  },
  {
   "cell_type": "markdown",
   "metadata": {},
   "source": [
    "## Fixing horsepower\n",
    "\n",
    "One last weird data cleanup for us to do on this data set. Check out the `horsepower` column."
   ]
  },
  {
   "cell_type": "code",
   "execution_count": null,
   "metadata": {},
   "outputs": [],
   "source": [
    "auto['horsepower']"
   ]
  },
  {
   "cell_type": "markdown",
   "metadata": {},
   "source": [
    "Compare that to, for example, the `weight` and `name` columns."
   ]
  },
  {
   "cell_type": "code",
   "execution_count": null,
   "metadata": {},
   "outputs": [],
   "source": [
    "auto['weight']"
   ]
  },
  {
   "cell_type": "code",
   "execution_count": null,
   "metadata": {},
   "outputs": [],
   "source": [
    "auto['name']"
   ]
  },
  {
   "cell_type": "markdown",
   "metadata": {},
   "source": [
    "The `dtype` tells us what kind of data pandas thinks is contained in there.  `int64` is for numbers, like horsepower, but for some reason* pandas is treating it like object data, which is what pandas uses for basically anything else, like data inputs that are strings. This makes sense for the `name` column, but we'd like to fix it for the `horsepower` column now that we've fixed the `np.nan` issue. The code below returns the `horsepower` column with `dtype: int64`.\n",
    "\n",
    "   *The reason is related to the weird choice of null entry for this data set. It's also why `describe` above didn't have the `horsepower` column."
   ]
  },
  {
   "cell_type": "code",
   "execution_count": null,
   "metadata": {
    "scrolled": true
   },
   "outputs": [],
   "source": [
    "auto['horsepower'].astype('int')"
   ]
  },
  {
   "cell_type": "markdown",
   "metadata": {},
   "source": [
    "&#9989; **<font color=red>DO THIS:</font>** Overwrite the `horsepower` column in the `auto` data frame with this fixed version. "
   ]
  },
  {
   "cell_type": "code",
   "execution_count": null,
   "metadata": {},
   "outputs": [],
   "source": [
    "#---- Your code here! ----#"
   ]
  },
  {
   "cell_type": "markdown",
   "metadata": {},
   "source": [
    "# 2. Extracting data from a frame\n",
    "\n",
    "Ok, I know everyone needs a reminder on this (It's me. I can never remember any of this without googling it.....), let's just do a quick refresh on how to get out portions of your data table. \n",
    "\n",
    "First, you can get a whole column (which is known as a pandas `Series`) like this: "
   ]
  },
  {
   "cell_type": "code",
   "execution_count": null,
   "metadata": {},
   "outputs": [],
   "source": [
    "auto['weight']"
   ]
  },
  {
   "cell_type": "markdown",
   "metadata": {},
   "source": [
    "For more fine-grained control, there are two commands that are used: `loc`, and `iloc`. "
   ]
  },
  {
   "cell_type": "code",
   "execution_count": null,
   "metadata": {},
   "outputs": [],
   "source": [
    "auto.head()"
   ]
  },
  {
   "cell_type": "code",
   "execution_count": null,
   "metadata": {},
   "outputs": [],
   "source": [
    "# `loc` takes the labels as inputs to find a particular point\n",
    "auto.loc[3,'weight']"
   ]
  },
  {
   "cell_type": "code",
   "execution_count": null,
   "metadata": {},
   "outputs": [],
   "source": [
    "# 'iloc' takex the indices. Here's how to get the same number\n",
    "auto.iloc[3,4]\n"
   ]
  },
  {
   "cell_type": "markdown",
   "metadata": {},
   "source": [
    "In this case, the row entry is the same for both (`3`) because the rows happen to be labeled with their number. However, for `.loc`, we need the name of the column we want (`weight`), while for `.iloc` we need the number of the column (`4` because we count from zero...).\n",
    "\n",
    "&#9989; **<font color=red>DO THIS:</font>** Extract a data frame with rows 3,4,5, and 6, and with information on displacement, horsepower, and weight."
   ]
  },
  {
   "cell_type": "code",
   "execution_count": null,
   "metadata": {},
   "outputs": [],
   "source": [
    "#---- Your code here!----#"
   ]
  },
  {
   "cell_type": "markdown",
   "metadata": {},
   "source": [
    "# 3. Plotting \n",
    "\n",
    "The third-ish thing I do with a new data set that I'm trying to understand is to just start plotting random things. This is great for getting a sense of ranges for values, as well as to start looking for simple correlations. \n",
    "\n",
    "In this class, we will use two python modules for plotting, depending on which has the tools we want: \n",
    "- `matplotlib`. This is basically the standard plotting tool.  It does basically anything you want (albeit with a bit of pain and suffering and a few choice four letter words along the way). You've already seen this package in CMSE 201 at least. \n",
    "- `seaborn`. This is helpful for some prepackaged figure generation that we will make use of.  It's actually built on top of matplotlib, but has often simplified syntax. "
   ]
  },
  {
   "cell_type": "code",
   "execution_count": null,
   "metadata": {},
   "outputs": [],
   "source": [
    "# Make sure you run this to import seaborn. If this doesn't run\n",
    "# for some reason, check that it's installed. \n",
    "import seaborn as sns"
   ]
  },
  {
   "cell_type": "code",
   "execution_count": null,
   "metadata": {},
   "outputs": [],
   "source": [
    "auto.head()"
   ]
  },
  {
   "cell_type": "markdown",
   "metadata": {},
   "source": [
    "&#9989; **<font color=red>DO THIS:</font>** First, use matplotlib's `hist` command to show a histogram of the `weight` data. \n",
    "\n",
    "**Hint** if you ever forget how to use a command, you can of course google it, but you can also type `?` before the name of the command to see the help info from inside the jupyter notebook, e.g.:\n",
    "```\n",
    "?plt.hist\n",
    "```"
   ]
  },
  {
   "cell_type": "code",
   "execution_count": null,
   "metadata": {},
   "outputs": [],
   "source": [
    "#----- Your code here!-----#"
   ]
  },
  {
   "cell_type": "markdown",
   "metadata": {},
   "source": [
    "Plot the same histogram using seaborn's `histplot`."
   ]
  },
  {
   "cell_type": "code",
   "execution_count": null,
   "metadata": {},
   "outputs": [],
   "source": [
    "#---- Your code here-----_#"
   ]
  },
  {
   "cell_type": "markdown",
   "metadata": {},
   "source": [
    "The next useful tool is to see data points scattered with each other in 2 dimensions. \n",
    "\n",
    "&#9989; **<font color=red>DO THIS:</font>** Draw a scatter plot of the `weight` variable vs `mpg` variable. "
   ]
  },
  {
   "cell_type": "code",
   "execution_count": null,
   "metadata": {},
   "outputs": [],
   "source": [
    "# This command should get you approximately the same thing, \n",
    "# but with the added perk of automatically labeling axes\n",
    "sns.relplot(x=\"weight\", y=\"mpg\", data=auto);"
   ]
  },
  {
   "cell_type": "markdown",
   "metadata": {},
   "source": [
    "Now here is what I think is one of the most useful tools in seaborn for use when you're starting to understand a dataset...."
   ]
  },
  {
   "cell_type": "code",
   "execution_count": null,
   "metadata": {},
   "outputs": [],
   "source": [
    "sns.pairplot(auto)"
   ]
  },
  {
   "cell_type": "markdown",
   "metadata": {},
   "source": [
    "&#9989; **<font color=red>Q:</font>** What is each graph on this giant grid showing you? "
   ]
  },
  {
   "cell_type": "markdown",
   "metadata": {},
   "source": [
    "*Your answer here*"
   ]
  },
  {
   "cell_type": "markdown",
   "metadata": {},
   "source": [
    "*Put your answer to the above question here.*"
   ]
  },
  {
   "cell_type": "markdown",
   "metadata": {},
   "source": [
    "## A note on the `ISLP` package \n",
    "\n",
    "The new version of the textbook has been setup in python, and with it they have setup a python package with the stuff needed for the labs. \n",
    "- [Documentation of ISLP](https://islp.readthedocs.io/en/latest/)\n",
    "- [Installation Instructions](https://islp.readthedocs.io/en/latest/installation.html)\n",
    "\n",
    "In theory, you should be able to get it running using the command \n",
    "```bash\n",
    "pip install ISLP\n",
    "```\n",
    "however this caused a bunch of headaches when I tried to do it on my machine.\n",
    "\n",
    "\n",
    "For the moment, I'm not going to try to set up all labs without using this package. The issue is that their package is VERY restrictive about versions of dependent packages (`numpy`, `matplotlib`, etc), which means you would need to downgrade many standard packages on your system, or be comfortable with using conda environments. If that is something you are comfortable with, you can still follow the [Installation Instructions](https://islp.readthedocs.io/en/latest/installation.html) to install the package. "
   ]
  },
  {
   "cell_type": "markdown",
   "metadata": {},
   "source": [
    "\n",
    "\n",
    "-----\n",
    "### Congratulations, we're done!"
   ]
  },
  {
   "cell_type": "markdown",
   "metadata": {},
   "source": [
    "Initially created by Dr. Liz Munch, modified by Dr. Lianzhang Bao, Michigan State University\n",
    "<a rel=\"license\" href=\"http://creativecommons.org/licenses/by-nc/4.0/\"><img alt=\"Creative Commons License\" style=\"border-width:0\" src=\"https://i.creativecommons.org/l/by-nc/4.0/88x31.png\" /></a><br />This work is licensed under a <a rel=\"license\" href=\"http://creativecommons.org/licenses/by-nc/4.0/\">Creative Commons Attribution-NonCommercial 4.0 International License</a>."
   ]
  },
  {
   "cell_type": "code",
   "execution_count": null,
   "metadata": {},
   "outputs": [],
   "source": []
  }
 ],
 "metadata": {
  "kernelspec": {
   "display_name": "Python [conda env:base] *",
   "language": "python",
   "name": "conda-base-py"
  },
  "language_info": {
   "codemirror_mode": {
    "name": "ipython",
    "version": 3
   },
   "file_extension": ".py",
   "mimetype": "text/x-python",
   "name": "python",
   "nbconvert_exporter": "python",
   "pygments_lexer": "ipython3",
   "version": "3.12.7"
  },
  "vscode": {
   "interpreter": {
    "hash": "3e3338d56a43a0108f5ff8ffc1915439f9812d920a0d5bf5d66e4a60c981234a"
   }
  }
 },
 "nbformat": 4,
 "nbformat_minor": 4
}
