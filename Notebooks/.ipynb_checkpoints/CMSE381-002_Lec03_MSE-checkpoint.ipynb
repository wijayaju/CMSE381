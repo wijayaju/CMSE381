{
 "cells": [
  {
   "cell_type": "markdown",
   "metadata": {},
   "source": [
    "# Jupyter - Lecture 3 (Section 002)\n",
    "## Lecture 3 - Mean Squared Error\n",
    "## CMSE 381 - Spring 2025\n",
    "## Jan 17, 2025\n",
    "\n",
    "This notebook has some code to go along with lecture 3 on Mean Squared Error."
   ]
  },
  {
   "cell_type": "code",
   "execution_count": 11,
   "metadata": {},
   "outputs": [],
   "source": [
    "# As always, we start with our favorite standard imports. \n",
    "\n",
    "import numpy as np\n",
    "import pandas as pd\n",
    "import matplotlib.pyplot as plt \n",
    "import seaborn as sns\n",
    "%matplotlib inline"
   ]
  },
  {
   "cell_type": "markdown",
   "metadata": {},
   "source": [
    "## Info about the data set \n",
    "\n",
    "- From https://rdrr.io/cran/ISLR/man/Auto.html\n",
    "- Also hosted on our class website [Data Sets Page](../../DataSets/DataSets.md)\n",
    "\n",
    "\n",
    "### Auto: Auto Data Set\n",
    "\n",
    "\n",
    "**Description**\n",
    "\n",
    "Gas mileage, horsepower, and other information for 392 vehicles.\n",
    "Usage\n",
    "\n",
    "\n",
    "**Format**\n",
    "\n",
    "A data frame with 392 observations on the following 9 variables.\n",
    "\n",
    "- `mpg`: miles per gallon\n",
    "- `cylinders`: Number of cylinders between 4 and 8\n",
    "- `displacement`: Engine displacement (cu. inches)\n",
    "- `horsepower`: Engine horsepower\n",
    "- `weight`: Vehicle weight (lbs.)\n",
    "- `acceleration`: Time to accelerate from 0 to 60 mph (sec.)\n",
    "- `year`: Model year (modulo 100)\n",
    "- `origin`: Origin of car (1. American, 2. European, 3. Japanese)\n",
    "- `name`: Vehicle name\n",
    "\n",
    "The orginal data contained 408 observations but 16 observations with missing values were removed.\n",
    "\n",
    "**Source**\n",
    "\n",
    "This dataset was taken from the StatLib library which is maintained at Carnegie Mellon University. The dataset was used in the 1983 American Statistical Association Exposition. "
   ]
  },
  {
   "cell_type": "code",
   "execution_count": 13,
   "metadata": {},
   "outputs": [
    {
     "data": {
      "text/plain": [
       "(392, 9)"
      ]
     },
     "execution_count": 13,
     "metadata": {},
     "output_type": "execute_result"
    }
   ],
   "source": [
    "# First, we're going to do all the data loading and cleanup we figured out last time.\n",
    "auto = pd.read_csv('../Auto.csv')\n",
    "auto = auto.replace('?', np.nan)\n",
    "auto = auto.dropna()\n",
    "auto.horsepower = auto.horsepower.astype('int')\n",
    "auto.shape\n"
   ]
  },
  {
   "cell_type": "markdown",
   "metadata": {},
   "source": [
    "I want to just predict acceleration using horsepower. \n",
    "\n",
    "\n",
    "&#9989; **<font color=red>Do this:</font>** Make a scatter plot of acceleration (the output varible) vs horsepower (the input variable). Does it look like there's a relationship between the two variables?  "
   ]
  },
  {
   "cell_type": "code",
   "execution_count": 29,
   "metadata": {},
   "outputs": [
    {
     "data": {
      "image/png": "[encoded data removed]",
      "text/plain": [
       "<Figure size 640x480 with 1 Axes>"
      ]
     },
     "metadata": {},
     "output_type": "display_data"
    }
   ],
   "source": [
    "# Your code here.\n",
    "plt.scatter(auto.horsepower, auto.acceleration)\n",
    "plt.show()"
   ]
  },
  {
   "cell_type": "markdown",
   "metadata": {},
   "source": [
    "I've decided to use the model \n",
    "$\n",
    "\\hat {f}(\\texttt{horsepower}) = \n",
    "23-0.05 \\cdot \\texttt{horsepower}\n",
    "$\n",
    "\n",
    "&#9989; **<font color=red>Do this:</font>** Make a panda Series with entries $\\hat f(\\texttt{horsepower})$ for each entry in `auto.horsepower`. "
   ]
  },
  {
   "cell_type": "code",
   "execution_count": 70,
   "metadata": {},
   "outputs": [
    {
     "data": {
      "text/plain": [
       "0      16.50\n",
       "1      14.75\n",
       "2      15.50\n",
       "3      15.50\n",
       "4      16.00\n",
       "       ...  \n",
       "392    18.70\n",
       "393    20.40\n",
       "394    18.80\n",
       "395    19.05\n",
       "396    18.90\n",
       "Name: horsepower, Length: 392, dtype: float64"
      ]
     },
     "execution_count": 70,
     "metadata": {},
     "output_type": "execute_result"
    }
   ],
   "source": [
    "# Your code here\n",
    "yhat = pd.Series((23 - (0.05 * auto.horsepower)))\n",
    "yhat"
   ]
  },
  {
   "cell_type": "markdown",
   "metadata": {},
   "source": [
    "&#9989; **<font color=red>Do this:</font>** Using the series you just built, calculate the mean squared error, \n",
    "\n",
    "$\n",
    "MSE = \\frac{1}{n} \\sum_{i=1}^n (y_i - \\hat y_i)^2.\n",
    "$"
   ]
  },
  {
   "cell_type": "code",
   "execution_count": 72,
   "metadata": {},
   "outputs": [
    {
     "data": {
      "text/plain": [
       "2946135.3799999994"
      ]
     },
     "execution_count": 72,
     "metadata": {},
     "output_type": "execute_result"
    }
   ],
   "source": [
    "# Your code here\n",
    "\n",
    "MSE = (1/392) * (sum(auto.horsepower - yhat))**2\n",
    "MSE"
   ]
  },
  {
   "cell_type": "markdown",
   "metadata": {},
   "source": [
    "Have some spare time? Can you mess around with the coefficients in your model to decrease the MSE?\n"
   ]
  },
  {
   "cell_type": "code",
   "execution_count": 78,
   "metadata": {},
   "outputs": [
    {
     "data": {
      "text/plain": [
       "4196803.113342108"
      ]
     },
     "execution_count": 78,
     "metadata": {},
     "output_type": "execute_result"
    }
   ],
   "source": [
    "# Your code here\n",
    "yhat2 = pd.Series((23 - (0.00001 * auto.horsepower)))\n",
    "MSE2 = (1/392) * (sum(auto.horsepower - yhat2))**2\n",
    "MSE2"
   ]
  },
  {
   "cell_type": "code",
   "execution_count": 80,
   "metadata": {},
   "outputs": [
    {
     "data": {
      "text/plain": [
       "4631141.779999999"
      ]
     },
     "execution_count": 80,
     "metadata": {},
     "output_type": "execute_result"
    }
   ],
   "source": [
    "yhat3 = pd.Series((1 - (0.05 * auto.horsepower)))\n",
    "MSE3 = (1/392) * (sum(auto.horsepower - yhat3))**2\n",
    "MSE3"
   ]
  },
  {
   "cell_type": "markdown",
   "metadata": {},
   "source": [
    "\n",
    "\n",
    "-----\n",
    "### Congratulations, we're done!"
   ]
  },
  {
   "cell_type": "markdown",
   "metadata": {},
   "source": [
    "Initially created by Dr. Liz Munch, modified by Dr. Lianzhang Bao, Michigan State University\n",
    "<a rel=\"license\" href=\"http://creativecommons.org/licenses/by-nc/4.0/\"><img alt=\"Creative Commons License\" style=\"border-width:0\" src=\"https://i.creativecommons.org/l/by-nc/4.0/88x31.png\" /></a><br />This work is licensed under a <a rel=\"license\" href=\"http://creativecommons.org/licenses/by-nc/4.0/\">Creative Commons Attribution-NonCommercial 4.0 International License</a>."
   ]
  }
 ],
 "metadata": {
  "kernelspec": {
   "display_name": "Python [conda env:base] *",
   "language": "python",
   "name": "conda-base-py"
  },
  "language_info": {
   "codemirror_mode": {
    "name": "ipython",
    "version": 3
   },
   "file_extension": ".py",
   "mimetype": "text/x-python",
   "name": "python",
   "nbconvert_exporter": "python",
   "pygments_lexer": "ipython3",
   "version": "3.12.7"
  },
  "vscode": {
   "interpreter": {
    "hash": "3e3338d56a43a0108f5ff8ffc1915439f9812d920a0d5bf5d66e4a60c981234a"
   }
  }
 },
 "nbformat": 4,
 "nbformat_minor": 4
}
